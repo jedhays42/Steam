{
 "cells": [
  {
   "cell_type": "code",
   "execution_count": 0,
   "metadata": {
    "application/vnd.databricks.v1+cell": {
     "cellMetadata": {
      "byteLimit": 2048000,
      "rowLimit": 10000
     },
     "inputWidgets": {},
     "nuid": "420b8e97-a179-4f05-a9b8-2fb930ce187d",
     "showTitle": false,
     "title": ""
    }
   },
   "outputs": [],
   "source": [
    "# les librairies\n",
    "from pyspark.sql.functions import *\n",
    "from pyspark.sql.types import *\n",
    "import pyspark"
   ]
  },
  {
   "cell_type": "code",
   "execution_count": 0,
   "metadata": {
    "application/vnd.databricks.v1+cell": {
     "cellMetadata": {
      "byteLimit": 2048000,
      "rowLimit": 10000
     },
     "inputWidgets": {},
     "nuid": "078e8815-2c2d-4ca0-93c1-0e964171e196",
     "showTitle": false,
     "title": ""
    }
   },
   "outputs": [
    {
     "output_type": "stream",
     "name": "stdout",
     "output_type": "stream",
     "text": [
      "root\n |-- data: struct (nullable = true)\n |    |-- appid: long (nullable = true)\n |    |-- categories: array (nullable = true)\n |    |    |-- element: string (containsNull = true)\n |    |-- ccu: long (nullable = true)\n |    |-- developer: string (nullable = true)\n |    |-- discount: string (nullable = true)\n |    |-- genre: string (nullable = true)\n |    |-- header_image: string (nullable = true)\n |    |-- initialprice: string (nullable = true)\n |    |-- languages: string (nullable = true)\n |    |-- name: string (nullable = true)\n |    |-- negative: long (nullable = true)\n |    |-- owners: string (nullable = true)\n |    |-- platforms: struct (nullable = true)\n |    |    |-- linux: boolean (nullable = true)\n |    |    |-- mac: boolean (nullable = true)\n |    |    |-- windows: boolean (nullable = true)\n |    |-- positive: long (nullable = true)\n |    |-- price: string (nullable = true)\n |    |-- publisher: string (nullable = true)\n |    |-- release_date: string (nullable = true)\n |    |-- required_age: string (nullable = true)\n |    |-- short_description: string (nullable = true)\n |    |-- tags: struct (nullable = true)\n |    |    |-- 1980s: long (nullable = true)\n |    |    |-- 1990's: long (nullable = true)\n |    |    |-- 2.5D: long (nullable = true)\n |    |    |-- 2D: long (nullable = true)\n |    |    |-- 2D Fighter: long (nullable = true)\n |    |    |-- 2D Platformer: long (nullable = true)\n |    |    |-- 360 Video: long (nullable = true)\n |    |    |-- 3D: long (nullable = true)\n |    |    |-- 3D Fighter: long (nullable = true)\n |    |    |-- 3D Platformer: long (nullable = true)\n |    |    |-- 3D Vision: long (nullable = true)\n |    |    |-- 4 Player Local: long (nullable = true)\n |    |    |-- 4X: long (nullable = true)\n |    |    |-- 6DOF: long (nullable = true)\n |    |    |-- 8-bit Music: long (nullable = true)\n |    |    |-- ATV: long (nullable = true)\n |    |    |-- Abstract: long (nullable = true)\n |    |    |-- Action: long (nullable = true)\n |    |    |-- Action RPG: long (nullable = true)\n |    |    |-- Action RTS: long (nullable = true)\n |    |    |-- Action Roguelike: long (nullable = true)\n |    |    |-- Action-Adventure: long (nullable = true)\n |    |    |-- Addictive: long (nullable = true)\n |    |    |-- Adventure: long (nullable = true)\n |    |    |-- Agriculture: long (nullable = true)\n |    |    |-- Aliens: long (nullable = true)\n |    |    |-- Alternate History: long (nullable = true)\n |    |    |-- Ambient: long (nullable = true)\n |    |    |-- America: long (nullable = true)\n |    |    |-- Animation & Modeling: long (nullable = true)\n |    |    |-- Anime: long (nullable = true)\n |    |    |-- Arcade: long (nullable = true)\n |    |    |-- Archery: long (nullable = true)\n |    |    |-- Arena Shooter: long (nullable = true)\n |    |    |-- Artificial Intelligence: long (nullable = true)\n |    |    |-- Assassin: long (nullable = true)\n |    |    |-- Asymmetric VR: long (nullable = true)\n |    |    |-- Asynchronous Multiplayer: long (nullable = true)\n |    |    |-- Atmospheric: long (nullable = true)\n |    |    |-- Audio Production: long (nullable = true)\n |    |    |-- Auto Battler: long (nullable = true)\n |    |    |-- Automation: long (nullable = true)\n |    |    |-- Automobile Sim: long (nullable = true)\n |    |    |-- BMX: long (nullable = true)\n |    |    |-- Base-Building: long (nullable = true)\n |    |    |-- Baseball: long (nullable = true)\n |    |    |-- Based On A Novel: long (nullable = true)\n |    |    |-- Basketball: long (nullable = true)\n |    |    |-- Battle Royale: long (nullable = true)\n |    |    |-- Beat 'em up: long (nullable = true)\n |    |    |-- Beautiful: long (nullable = true)\n |    |    |-- Benchmark: long (nullable = true)\n |    |    |-- Bikes: long (nullable = true)\n |    |    |-- Blood: long (nullable = true)\n |    |    |-- Board Game: long (nullable = true)\n |    |    |-- Boss Rush: long (nullable = true)\n |    |    |-- Bowling: long (nullable = true)\n |    |    |-- Boxing: long (nullable = true)\n |    |    |-- Building: long (nullable = true)\n |    |    |-- Bullet Hell: long (nullable = true)\n |    |    |-- Bullet Time: long (nullable = true)\n |    |    |-- CRPG: long (nullable = true)\n |    |    |-- Capitalism: long (nullable = true)\n |    |    |-- Card Battler: long (nullable = true)\n |    |    |-- Card Game: long (nullable = true)\n |    |    |-- Cartoon: long (nullable = true)\n |    |    |-- Cartoony: long (nullable = true)\n |    |    |-- Casual: long (nullable = true)\n |    |    |-- Cats: long (nullable = true)\n |    |    |-- Character Action Game: long (nullable = true)\n |    |    |-- Character Customization: long (nullable = true)\n |    |    |-- Chess: long (nullable = true)\n |    |    |-- Choices Matter: long (nullable = true)\n |    |    |-- Choose Your Own Adventure: long (nullable = true)\n |    |    |-- Cinematic: long (nullable = true)\n |    |    |-- City Builder: long (nullable = true)\n |    |    |-- Class-Based: long (nullable = true)\n |    |    |-- Classic: long (nullable = true)\n |    |    |-- Clicker: long (nullable = true)\n |    |    |-- Co-op: long (nullable = true)\n |    |    |-- Co-op Campaign: long (nullable = true)\n |    |    |-- Coding: long (nullable = true)\n |    |    |-- Cold War: long (nullable = true)\n |    |    |-- Collectathon: long (nullable = true)\n |    |    |-- Colony Sim: long (nullable = true)\n |    |    |-- Colorful: long (nullable = true)\n |    |    |-- Combat: long (nullable = true)\n |    |    |-- Combat Racing: long (nullable = true)\n |    |    |-- Comedy: long (nullable = true)\n |    |    |-- Comic Book: long (nullable = true)\n |    |    |-- Competitive: long (nullable = true)\n |    |    |-- Conspiracy: long (nullable = true)\n |    |    |-- Controller: long (nullable = true)\n |    |    |-- Conversation: long (nullable = true)\n |    |    |-- Cooking: long (nullable = true)\n |    |    |-- Cozy: long (nullable = true)\n |    |    |-- Crafting: long (nullable = true)\n |    |    |-- Creature Collector: long (nullable = true)\n |    |    |-- Cricket: long (nullable = true)\n |    |    |-- Crime: long (nullable = true)\n |    |    |-- Crowdfunded: long (nullable = true)\n |    |    |-- Cult Classic: long (nullable = true)\n |    |    |-- Cute: long (nullable = true)\n |    |    |-- Cyberpunk: long (nullable = true)\n |    |    |-- Cycling: long (nullable = true)\n |    |    |-- Dark: long (nullable = true)\n |    |    |-- Dark Comedy: long (nullable = true)\n |    |    |-- Dark Fantasy: long (nullable = true)\n |    |    |-- Dark Humor: long (nullable = true)\n |    |    |-- Dating Sim: long (nullable = true)\n |    |    |-- Deckbuilding: long (nullable = true)\n |    |    |-- Demons: long (nullable = true)\n |    |    |-- Design & Illustration: long (nullable = true)\n |    |    |-- Destruction: long (nullable = true)\n |    |    |-- Detective: long (nullable = true)\n |    |    |-- Difficult: long (nullable = true)\n |    |    |-- Dinosaurs: long (nullable = true)\n |    |    |-- Diplomacy: long (nullable = true)\n |    |    |-- Documentary: long (nullable = true)\n |    |    |-- Dog: long (nullable = true)\n |    |    |-- Dragons: long (nullable = true)\n |    |    |-- Drama: long (nullable = true)\n |    |    |-- Driving: long (nullable = true)\n |    |    |-- Dungeon Crawler: long (nullable = true)\n |    |    |-- Dungeons & Dragons: long (nullable = true)\n |    |    |-- Dynamic Narration: long (nullable = true)\n |    |    |-- Dystopian : long (nullable = true)\n |    |    |-- Early Access: long (nullable = true)\n |    |    |-- Economy: long (nullable = true)\n |    |    |-- Education: long (nullable = true)\n |    |    |-- Electronic: long (nullable = true)\n |    |    |-- Electronic Music: long (nullable = true)\n |    |    |-- Emotional: long (nullable = true)\n |    |    |-- Epic: long (nullable = true)\n |    |    |-- Episodic: long (nullable = true)\n |    |    |-- Escape Room: long (nullable = true)\n |    |    |-- Experience: long (nullable = true)\n |    |    |-- Experimental: long (nullable = true)\n |    |    |-- Exploration: long (nullable = true)\n |    |    |-- FMV: long (nullable = true)\n |    |    |-- FPS: long (nullable = true)\n |    |    |-- Faith: long (nullable = true)\n |    |    |-- Family Friendly: long (nullable = true)\n |    |    |-- Fantasy: long (nullable = true)\n |    |    |-- Farming: long (nullable = true)\n |    |    |-- Farming Sim: long (nullable = true)\n |    |    |-- Fast-Paced: long (nullable = true)\n |    |    |-- Feature Film: long (nullable = true)\n |    |    |-- Female Protagonist: long (nullable = true)\n |    |    |-- Fighting: long (nullable = true)\n |    |    |-- First-Person: long (nullable = true)\n |    |    |-- Fishing: long (nullable = true)\n |    |    |-- Flight: long (nullable = true)\n |    |    |-- Football: long (nullable = true)\n |    |    |-- Foreign: long (nullable = true)\n |    |    |-- Free to Play: long (nullable = true)\n |    |    |-- Funny: long (nullable = true)\n |    |    |-- Futuristic: long (nullable = true)\n |    |    |-- Gambling: long (nullable = true)\n |    |    |-- Game Development: long (nullable = true)\n |    |    |-- GameMaker: long (nullable = true)\n |    |    |-- Games Workshop: long (nullable = true)\n |    |    |-- Gaming: long (nullable = true)\n |    |    |-- God Game: long (nullable = true)\n |    |    |-- Golf: long (nullable = true)\n |    |    |-- Gore: long (nullable = true)\n |    |    |-- Gothic: long (nullable = true)\n |    |    |-- Grand Strategy: long (nullable = true)\n |    |    |-- Great Soundtrack: long (nullable = true)\n |    |    |-- Grid-Based Movement: long (nullable = true)\n |    |    |-- Gun Customization: long (nullable = true)\n |    |    |-- Hack and Slash: long (nullable = true)\n |    |    |-- Hacking: long (nullable = true)\n |    |    |-- Hand-drawn: long (nullable = true)\n |    |    |-- Hardware: long (nullable = true)\n |    |    |-- Heist: long (nullable = true)\n |    |    |-- Hentai: long (nullable = true)\n |    |    |-- Hero Shooter: long (nullable = true)\n |    |    |-- Hex Grid: long (nullable = true)\n |    |    |-- Hidden Object: long (nullable = true)\n |    |    |-- Historical: long (nullable = true)\n |    |    |-- Hockey: long (nullable = true)\n |    |    |-- Horror: long (nullable = true)\n |    |    |-- Horses: long (nullable = true)\n |    |    |-- Hunting: long (nullable = true)\n |    |    |-- Idler: long (nullable = true)\n |    |    |-- Illuminati: long (nullable = true)\n |    |    |-- Immersive: long (nullable = true)\n |    |    |-- Immersive Sim: long (nullable = true)\n |    |    |-- Indie: long (nullable = true)\n |    |    |-- Instrumental Music: long (nullable = true)\n |    |    |-- Intentionally Awkward Controls: long (nullable = true)\n |    |    |-- Interactive Fiction: long (nullable = true)\n |    |    |-- Inventory Management: long (nullable = true)\n |    |    |-- Investigation: long (nullable = true)\n |    |    |-- Isometric: long (nullable = true)\n |    |    |-- JRPG: long (nullable = true)\n |    |    |-- Jet: long (nullable = true)\n |    |    |-- Job Simulator: long (nullable = true)\n |    |    |-- Jump Scare: long (nullable = true)\n |    |    |-- Kickstarter: long (nullable = true)\n |    |    |-- LEGO: long (nullable = true)\n |    |    |-- LGBTQ+: long (nullable = true)\n |    |    |-- Lemmings: long (nullable = true)\n |    |    |-- Level Editor: long (nullable = true)\n |    |    |-- Life Sim: long (nullable = true)\n |    |    |-- Linear: long (nullable = true)\n |    |    |-- Local Co-Op: long (nullable = true)\n |    |    |-- Local Multiplayer: long (nullable = true)\n |    |    |-- Logic: long (nullable = true)\n |    |    |-- Loot: long (nullable = true)\n |    |    |-- Looter Shooter: long (nullable = true)\n |    |    |-- Lore-Rich: long (nullable = true)\n |    |    |-- Lovecraftian: long (nullable = true)\n |    |    |-- MMORPG: long (nullable = true)\n |    |    |-- MOBA: long (nullable = true)\n |    |    |-- Magic: long (nullable = true)\n |    |    |-- Mahjong: long (nullable = true)\n |    |    |-- Management: long (nullable = true)\n |    |    |-- Mars: long (nullable = true)\n |    |    |-- Martial Arts: long (nullable = true)\n |    |    |-- Massively Multiplayer: long (nullable = true)\n |    |    |-- Masterpiece: long (nullable = true)\n |    |    |-- Match 3: long (nullable = true)\n |    |    |-- Mature: long (nullable = true)\n |    |    |-- Mechs: long (nullable = true)\n |    |    |-- Medical Sim: long (nullable = true)\n |    |    |-- Medieval: long (nullable = true)\n |    |    |-- Memes: long (nullable = true)\n |    |    |-- Metroidvania: long (nullable = true)\n |    |    |-- Military: long (nullable = true)\n |    |    |-- Mini Golf: long (nullable = true)\n |    |    |-- Minigames: long (nullable = true)\n |    |    |-- Minimalist: long (nullable = true)\n |    |    |-- Mining: long (nullable = true)\n |    |    |-- Mod: long (nullable = true)\n |    |    |-- Moddable: long (nullable = true)\n |    |    |-- Modern: long (nullable = true)\n |    |    |-- Motocross: long (nullable = true)\n |    |    |-- Motorbike: long (nullable = true)\n |    |    |-- Mouse only: long (nullable = true)\n |    |    |-- Movie: long (nullable = true)\n |    |    |-- Multiplayer: long (nullable = true)\n |    |    |-- Multiple Endings: long (nullable = true)\n |    |    |-- Music: long (nullable = true)\n |    |    |-- Music-Based Procedural Generation: long (nullable = true)\n |    |    |-- Musou: long (nullable = true)\n |    |    |-- Mystery: long (nullable = true)\n |    |    |-- Mystery Dungeon: long (nullable = true)\n |    |    |-- Mythology: long (nullable = true)\n |    |    |-- NSFW: long (nullable = true)\n |    |    |-- Narration: long (nullable = true)\n |    |    |-- Narrative: long (nullable = true)\n |    |    |-- Nature: long (nullable = true)\n |    |    |-- Naval: long (nullable = true)\n |    |    |-- Naval Combat: long (nullable = true)\n |    |    |-- Ninja: long (nullable = true)\n |    |    |-- Noir: long (nullable = true)\n |    |    |-- Nonlinear: long (nullable = true)\n |    |    |-- Nostalgia: long (nullable = true)\n |    |    |-- Nudity: long (nullable = true)\n |    |    |-- Offroad: long (nullable = true)\n |    |    |-- Old School: long (nullable = true)\n |    |    |-- On-Rails Shooter: long (nullable = true)\n |    |    |-- Online Co-Op: long (nullable = true)\n |    |    |-- Open World: long (nullable = true)\n |    |    |-- Open World Survival Craft: long (nullable = true)\n |    |    |-- Otome: long (nullable = true)\n |    |    |-- Outbreak Sim: long (nullable = true)\n |    |    |-- Parkour: long (nullable = true)\n |    |    |-- Parody : long (nullable = true)\n |    |    |-- Party: long (nullable = true)\n |    |    |-- Party Game: long (nullable = true)\n |    |    |-- Party-Based RPG: long (nullable = true)\n |    |    |-- Perma Death: long (nullable = true)\n |    |    |-- Philosophical: long (nullable = true)\n |    |    |-- Photo Editing: long (nullable = true)\n |    |    |-- Physics: long (nullable = true)\n |    |    |-- Pinball: long (nullable = true)\n |    |    |-- Pirates: long (nullable = true)\n |    |    |-- Pixel Graphics: long (nullable = true)\n |    |    |-- Platformer: long (nullable = true)\n |    |    |-- Point & Click: long (nullable = true)\n |    |    |-- Political: long (nullable = true)\n |    |    |-- Political Sim: long (nullable = true)\n |    |    |-- Politics: long (nullable = true)\n |    |    |-- Pool: long (nullable = true)\n |    |    |-- Post-apocalyptic: long (nullable = true)\n |    |    |-- Precision Platformer: long (nullable = true)\n |    |    |-- Procedural Generation: long (nullable = true)\n |    |    |-- Programming: long (nullable = true)\n |    |    |-- Psychedelic: long (nullable = true)\n |    |    |-- Psychological: long (nullable = true)\n |    |    |-- Psychological Horror: long (nullable = true)\n |    |    |-- Puzzle: long (nullable = true)\n |    |    |-- Puzzle-Platformer: long (nullable = true)\n |    |    |-- PvE: long (nullable = true)\n |    |    |-- PvP: long (nullable = true)\n |    |    |-- Quick-Time Events: long (nullable = true)\n |    |    |-- RPG: long (nullable = true)\n |    |    |-- RPGMaker: long (nullable = true)\n |    |    |-- RTS: long (nullable = true)\n |    |    |-- Racing: long (nullable = true)\n |    |    |-- Real Time Tactics: long (nullable = true)\n |    |    |-- Real-Time: long (nullable = true)\n |    |    |-- Real-Time with Pause: long (nullable = true)\n |    |    |-- Realistic: long (nullable = true)\n |    |    |-- Reboot: long (nullable = true)\n |    |    |-- Relaxing: long (nullable = true)\n |    |    |-- Remake: long (nullable = true)\n |    |    |-- Replay Value: long (nullable = true)\n |    |    |-- Resource Management: long (nullable = true)\n |    |    |-- Retro: long (nullable = true)\n |    |    |-- Rhythm: long (nullable = true)\n |    |    |-- Robots: long (nullable = true)\n |    |    |-- Rock Music: long (nullable = true)\n |    |    |-- Rogue-like: long (nullable = true)\n |    |    |-- Rogue-lite: long (nullable = true)\n |    |    |-- Roguelike Deckbuilder: long (nullable = true)\n |    |    |-- Roguevania: long (nullable = true)\n |    |    |-- Romance: long (nullable = true)\n |    |    |-- Rome: long (nullable = true)\n |    |    |-- Rugby: long (nullable = true)\n |    |    |-- Runner: long (nullable = true)\n |    |    |-- Sailing: long (nullable = true)\n |    |    |-- Sandbox: long (nullable = true)\n |    |    |-- Satire: long (nullable = true)\n |    |    |-- Sci-fi: long (nullable = true)\n |    |    |-- Science: long (nullable = true)\n |    |    |-- Score Attack: long (nullable = true)\n |    |    |-- Sequel: long (nullable = true)\n |    |    |-- Sexual Content: long (nullable = true)\n |    |    |-- Shoot 'Em Up: long (nullable = true)\n |    |    |-- Shooter: long (nullable = true)\n |    |    |-- Shop Keeper: long (nullable = true)\n |    |    |-- Short: long (nullable = true)\n |    |    |-- Side Scroller: long (nullable = true)\n |    |    |-- Silent Protagonist: long (nullable = true)\n |    |    |-- Simulation: long (nullable = true)\n |    |    |-- Singleplayer: long (nullable = true)\n |    |    |-- Skateboarding: long (nullable = true)\n |    |    |-- Skating: long (nullable = true)\n |    |    |-- Skiing: long (nullable = true)\n |    |    |-- Sniper: long (nullable = true)\n |    |    |-- Snooker: long (nullable = true)\n |    |    |-- Snow: long (nullable = true)\n |    |    |-- Snowboarding: long (nullable = true)\n |    |    |-- Soccer: long (nullable = true)\n |    |    |-- Social Deduction: long (nullable = true)\n |    |    |-- Software: long (nullable = true)\n |    |    |-- Software Training: long (nullable = true)\n |    |    |-- Sokoban: long (nullable = true)\n |    |    |-- Solitaire: long (nullable = true)\n |    |    |-- Souls-like: long (nullable = true)\n |    |    |-- Soundtrack: long (nullable = true)\n |    |    |-- Space: long (nullable = true)\n |    |    |-- Space Sim: long (nullable = true)\n |    |    |-- Spaceships: long (nullable = true)\n |    |    |-- Spectacle fighter: long (nullable = true)\n |    |    |-- Spelling: long (nullable = true)\n |    |    |-- Split Screen: long (nullable = true)\n |    |    |-- Sports: long (nullable = true)\n |    |    |-- Stealth: long (nullable = true)\n |    |    |-- Steam Machine: long (nullable = true)\n |    |    |-- Steampunk: long (nullable = true)\n |    |    |-- Story Rich: long (nullable = true)\n |    |    |-- Strategy: long (nullable = true)\n |    |    |-- Strategy RPG: long (nullable = true)\n |    |    |-- Stylized: long (nullable = true)\n |    |    |-- Submarine: long (nullable = true)\n |    |    |-- Superhero: long (nullable = true)\n |    |    |-- Supernatural: long (nullable = true)\n |    |    |-- Surreal: long (nullable = true)\n |    |    |-- Survival: long (nullable = true)\n |    |    |-- Survival Horror: long (nullable = true)\n |    |    |-- Swordplay: long (nullable = true)\n |    |    |-- Tabletop: long (nullable = true)\n |    |    |-- Tactical: long (nullable = true)\n |    |    |-- Tactical RPG: long (nullable = true)\n |    |    |-- Tanks: long (nullable = true)\n |    |    |-- Team-Based: long (nullable = true)\n |    |    |-- Tennis: long (nullable = true)\n |    |    |-- Text-Based: long (nullable = true)\n |    |    |-- Third Person: long (nullable = true)\n |    |    |-- Third-Person Shooter: long (nullable = true)\n |    |    |-- Thriller: long (nullable = true)\n |    |    |-- Tile-Matching: long (nullable = true)\n |    |    |-- Time Attack: long (nullable = true)\n |    |    |-- Time Management: long (nullable = true)\n |    |    |-- Time Manipulation: long (nullable = true)\n |    |    |-- Time Travel: long (nullable = true)\n |    |    |-- Top-Down: long (nullable = true)\n |    |    |-- Top-Down Shooter: long (nullable = true)\n |    |    |-- Touch-Friendly: long (nullable = true)\n |    |    |-- Tower Defense: long (nullable = true)\n |    |    |-- TrackIR: long (nullable = true)\n |    |    |-- Trading: long (nullable = true)\n |    |    |-- Trading Card Game: long (nullable = true)\n |    |    |-- Traditional Roguelike: long (nullable = true)\n |    |    |-- Trains: long (nullable = true)\n |    |    |-- Transhumanism: long (nullable = true)\n |    |    |-- Transportation: long (nullable = true)\n |    |    |-- Trivia: long (nullable = true)\n |    |    |-- Turn-Based: long (nullable = true)\n |    |    |-- Turn-Based Combat: long (nullable = true)\n |    |    |-- Turn-Based Strategy: long (nullable = true)\n |    |    |-- Turn-Based Tactics: long (nullable = true)\n |    |    |-- Tutorial: long (nullable = true)\n |    |    |-- Twin Stick Shooter: long (nullable = true)\n |    |    |-- Typing: long (nullable = true)\n |    |    |-- Underground: long (nullable = true)\n |    |    |-- Underwater: long (nullable = true)\n |    |    |-- Unforgiving: long (nullable = true)\n |    |    |-- Utilities: long (nullable = true)\n |    |    |-- VR: long (nullable = true)\n |    |    |-- VR Only: long (nullable = true)\n |    |    |-- Vampire: long (nullable = true)\n |    |    |-- Vehicular Combat: long (nullable = true)\n |    |    |-- Video Production: long (nullable = true)\n |    |    |-- Vikings: long (nullable = true)\n |    |    |-- Villain Protagonist: long (nullable = true)\n |    |    |-- Violent: long (nullable = true)\n |    |    |-- Visual Novel: long (nullable = true)\n |    |    |-- Voice Control: long (nullable = true)\n |    |    |-- Volleyball: long (nullable = true)\n |    |    |-- Voxel: long (nullable = true)\n |    |    |-- Walking Simulator: long (nullable = true)\n |    |    |-- War: long (nullable = true)\n |    |    |-- Wargame: long (nullable = true)\n |    |    |-- Warhammer 40K: long (nullable = true)\n |    |    |-- Web Publishing: long (nullable = true)\n |    |    |-- Well-Written: long (nullable = true)\n |    |    |-- Werewolves: long (nullable = true)\n |    |    |-- Western: long (nullable = true)\n |    |    |-- Wholesome: long (nullable = true)\n |    |    |-- Word Game: long (nullable = true)\n |    |    |-- World War I: long (nullable = true)\n |    |    |-- World War II: long (nullable = true)\n |    |    |-- Wrestling: long (nullable = true)\n |    |    |-- Zombies: long (nullable = true)\n |    |    |-- e-sports: long (nullable = true)\n |    |-- type: string (nullable = true)\n |    |-- website: string (nullable = true)\n |-- id: string (nullable = true)\n\n"
     ]
    }
   ],
   "source": [
    "# importation des données depuis bucket S3\n",
    "path = \"s3://full-stack-bigdata-datasets/Big_Data/Project_Steam/steam_game_output.json\"\n",
    "df = spark.read.format(\"json\").option(\"header\", \"true\").load(path)\n",
    "\n",
    "# vue schema\n",
    "df.printSchema()"
   ]
  },
  {
   "cell_type": "code",
   "execution_count": 0,
   "metadata": {
    "application/vnd.databricks.v1+cell": {
     "cellMetadata": {
      "byteLimit": 2048000,
      "rowLimit": 10000
     },
     "inputWidgets": {},
     "nuid": "4ddeb869-6ebc-4ede-abd1-c2a965f340a7",
     "showTitle": false,
     "title": ""
    }
   },
   "outputs": [
    {
     "output_type": "stream",
     "name": "stdout",
     "output_type": "stream",
     "text": [
      "+--------------------+-------+\n|                data|     id|\n+--------------------+-------+\n|{10, [Multi-playe...|     10|\n|{1000000, [Single...|1000000|\n|{1000010, [Single...|1000010|\n|{1000030, [Multi-...|1000030|\n|{1000040, [Single...|1000040|\n+--------------------+-------+\nonly showing top 5 rows\n\n"
     ]
    }
   ],
   "source": [
    "df.show(5)"
   ]
  },
  {
   "cell_type": "code",
   "execution_count": 0,
   "metadata": {
    "application/vnd.databricks.v1+cell": {
     "cellMetadata": {
      "byteLimit": 2048000,
      "rowLimit": 10000
     },
     "inputWidgets": {},
     "nuid": "7cdaa7ac-dab6-4410-ac02-d2a19f89dcb0",
     "showTitle": false,
     "title": ""
    }
   },
   "outputs": [
    {
     "output_type": "stream",
     "name": "stdout",
     "output_type": "stream",
     "text": [
      "Out[5]: [Row(data=Row(appid=10, categories=['Multi-player', 'Valve Anti-Cheat enabled', 'Online PvP', 'Shared/Split Screen PvP', 'PvP'], ccu=13990, developer='Valve', discount='0', genre='Action', header_image='https://cdn.akamai.steamstatic.com/steam/apps/10/header.jpg?t=1666823513', initialprice='999', languages='English, French, German, Italian, Spanish - Spain, Simplified Chinese, Traditional Chinese, Korean', name='Counter-Strike', negative=5199, owners='10,000,000 .. 20,000,000', platforms=Row(linux=True, mac=True, windows=True), positive=201215, price='999', publisher='Valve', release_date='2000/11/1', required_age='0', short_description=\"Play the world's number 1 online action game. Engage in an incredibly realistic brand of terrorist warfare in this wildly popular team-based game. Ally with teammates to complete strategic missions. Take out enemy sites. Rescue hostages. Your role affects your team's success. Your team's success affects your role.\", tags=Row(1980s=266, 1990's=1191, 2.5D=None, 2D=None, 2D Fighter=None, 2D Platformer=None, 360 Video=None, 3D=None, 3D Fighter=None, 3D Platformer=None, 3D Vision=None, 4 Player Local=None, 4X=None, 6DOF=None, 8-bit Music=None, ATV=None, Abstract=None, Action=5426, Action RPG=None, Action RTS=None, Action Roguelike=None, Action-Adventure=None, Addictive=None, Adventure=None, Agriculture=None, Aliens=None, Alternate History=None, Ambient=None, America=None, Animation & Modeling=None, Anime=None, Arcade=None, Archery=None, Arena Shooter=None, Artificial Intelligence=None, Assassin=227, Asymmetric VR=None, Asynchronous Multiplayer=None, Atmospheric=None, Audio Production=None, Auto Battler=None, Automation=None, Automobile Sim=None, BMX=None, Base-Building=None, Baseball=None, Based On A Novel=None, Basketball=None, Battle Royale=None, Beat 'em up=None, Beautiful=None, Benchmark=None, Bikes=None, Blood=None, Board Game=None, Boss Rush=None, Bowling=None, Boxing=None, Building=None, Bullet Hell=None, Bullet Time=None, CRPG=None, Capitalism=None, Card Battler=None, Card Game=None, Cartoon=None, Cartoony=None, Casual=None, Cats=None, Character Action Game=None, Character Customization=None, Chess=None, Choices Matter=None, Choose Your Own Adventure=None, Cinematic=None, City Builder=None, Class-Based=None, Classic=2784, Clicker=None, Co-op=None, Co-op Campaign=None, Coding=None, Cold War=None, Collectathon=None, Colony Sim=None, Colorful=None, Combat=None, Combat Racing=None, Comedy=None, Comic Book=None, Competitive=1607, Conspiracy=None, Controller=None, Conversation=None, Cooking=None, Cozy=None, Crafting=None, Creature Collector=None, Cricket=None, Crime=None, Crowdfunded=None, Cult Classic=None, Cute=None, Cyberpunk=None, Cycling=None, Dark=None, Dark Comedy=None, Dark Fantasy=None, Dark Humor=None, Dating Sim=None, Deckbuilding=None, Demons=None, Design & Illustration=None, Destruction=None, Detective=None, Difficult=None, Dinosaurs=None, Diplomacy=None, Documentary=None, Dog=None, Dragons=None, Drama=None, Driving=None, Dungeon Crawler=None, Dungeons & Dragons=None, Dynamic Narration=None, Dystopian =None, Early Access=None, Economy=None, Education=None, Electronic=None, Electronic Music=None, Emotional=None, Epic=None, Episodic=None, Escape Room=None, Experience=None, Experimental=None, Exploration=None, FMV=None, FPS=4831, Faith=None, Family Friendly=None, Fantasy=None, Farming=None, Farming Sim=None, Fast-Paced=None, Feature Film=None, Female Protagonist=None, Fighting=None, First-Person=1707, Fishing=None, Flight=None, Football=None, Foreign=None, Free to Play=None, Funny=None, Futuristic=None, Gambling=None, Game Development=None, GameMaker=None, Games Workshop=None, Gaming=None, God Game=None, Golf=None, Gore=None, Gothic=None, Grand Strategy=None, Great Soundtrack=None, Grid-Based Movement=None, Gun Customization=None, Hack and Slash=None, Hacking=None, Hand-drawn=None, Hardware=None, Heist=None, Hentai=None, Hero Shooter=None, Hex Grid=None, Hidden Object=None, Historical=None, Hockey=None, Horror=None, Horses=None, Hunting=None, Idler=None, Illuminati=None, Immersive=None, Immersive Sim=None, Indie=None, Instrumental Music=None, Intentionally Awkward Controls=None, Interactive Fiction=None, Inventory Management=None, Investigation=None, Isometric=None, JRPG=None, Jet=None, Job Simulator=None, Jump Scare=None, Kickstarter=None, LEGO=None, LGBTQ+=None, Lemmings=None, Level Editor=None, Life Sim=None, Linear=None, Local Co-Op=None, Local Multiplayer=None, Logic=None, Loot=None, Looter Shooter=None, Lore-Rich=None, Lovecraftian=None, MMORPG=None, MOBA=None, Magic=None, Mahjong=None, Management=None, Mars=None, Martial Arts=None, Massively Multiplayer=None, Masterpiece=None, Match 3=None, Mature=None, Mechs=None, Medical Sim=None, Medieval=None, Memes=None, Metroidvania=None, Military=632, Mini Golf=None, Minigames=None, Minimalist=None, Mining=None, Mod=None, Moddable=None, Modern=None, Motocross=None, Motorbike=None, Mouse only=None, Movie=None, Multiplayer=3392, Multiple Endings=None, Music=None, Music-Based Procedural Generation=None, Musou=None, Mystery=None, Mystery Dungeon=None, Mythology=None, NSFW=None, Narration=None, Narrative=None, Nature=None, Naval=None, Naval Combat=None, Ninja=None, Noir=None, Nonlinear=None, Nostalgia=131, Nudity=None, Offroad=None, Old School=769, On-Rails Shooter=None, Online Co-Op=None, Open World=None, Open World Survival Craft=None, Otome=None, Outbreak Sim=None, Parkour=None, Parody =None, Party=None, Party Game=None, Party-Based RPG=None, Perma Death=None, Philosophical=None, Photo Editing=None, Physics=None, Pinball=None, Pirates=None, Pixel Graphics=None, Platformer=None, Point & Click=None, Political=None, Political Sim=None, Politics=None, Pool=None, Post-apocalyptic=None, Precision Platformer=None, Procedural Generation=None, Programming=None, Psychedelic=None, Psychological=None, Psychological Horror=None, Puzzle=None, Puzzle-Platformer=None, PvE=None, PvP=881, Quick-Time Events=None, RPG=None, RPGMaker=None, RTS=None, Racing=None, Real Time Tactics=None, Real-Time=None, Real-Time with Pause=None, Realistic=None, Reboot=None, Relaxing=None, Remake=None, Replay Value=None, Resource Management=None, Retro=None, Rhythm=None, Robots=None, Rock Music=None, Rogue-like=None, Rogue-lite=None, Roguelike Deckbuilder=None, Roguevania=None, Romance=None, Rome=None, Rugby=None, Runner=None, Sailing=None, Sandbox=None, Satire=None, Sci-fi=None, Science=None, Score Attack=289, Sequel=None, Sexual Content=None, Shoot 'Em Up=None, Shooter=3353, Shop Keeper=None, Short=None, Side Scroller=None, Silent Protagonist=None, Simulation=None, Singleplayer=None, Skateboarding=None, Skating=None, Skiing=None, Sniper=None, Snooker=None, Snow=None, Snowboarding=None, Soccer=None, Social Deduction=None, Software=None, Software Training=None, Sokoban=None, Solitaire=None, Souls-like=None, Soundtrack=None, Space=None, Space Sim=None, Spaceships=None, Spectacle fighter=None, Spelling=None, Split Screen=None, Sports=None, Stealth=None, Steam Machine=None, Steampunk=None, Story Rich=None, Strategy=614, Strategy RPG=None, Stylized=None, Submarine=None, Superhero=None, Supernatural=None, Surreal=None, Survival=304, Survival Horror=None, Swordplay=None, Tabletop=None, Tactical=1344, Tactical RPG=None, Tanks=None, Team-Based=1864, Tennis=None, Text-Based=None, Third Person=None, Third-Person Shooter=None, Thriller=None, Tile-Matching=None, Time Attack=None, Time Management=None, Time Manipulation=None, Time Travel=None, Top-Down=None, Top-Down Shooter=None, Touch-Friendly=None, Tower Defense=None, TrackIR=None, Trading=None, Trading Card Game=None, Traditional Roguelike=None, Trains=None, Transhumanism=None, Transportation=None, Trivia=None, Turn-Based=None, Turn-Based Combat=None, Turn-Based Strategy=None, Turn-Based Tactics=None, Tutorial=None, Twin Stick Shooter=None, Typing=None, Underground=None, Underwater=None, Unforgiving=None, Utilities=None, VR=None, VR Only=None, Vampire=None, Vehicular Combat=None, Video Production=None, Vikings=None, Villain Protagonist=None, Violent=None, Visual Novel=None, Voice Control=None, Volleyball=None, Voxel=None, Walking Simulator=None, War=None, Wargame=None, Warhammer 40K=None, Web Publishing=None, Well-Written=None, Werewolves=None, Western=None, Wholesome=None, Word Game=None, World War I=None, World War II=None, Wrestling=None, Zombies=None, e-sports=1192), type='game', website=''), id='10')]"
     ]
    }
   ],
   "source": [
    "# vue 1° enregistrement\n",
    "df.take(1)"
   ]
  },
  {
   "cell_type": "code",
   "execution_count": 0,
   "metadata": {
    "application/vnd.databricks.v1+cell": {
     "cellMetadata": {
      "byteLimit": 2048000,
      "rowLimit": 10000
     },
     "inputWidgets": {},
     "nuid": "3e89ed6c-f047-4efb-b15e-a55eb1d9559f",
     "showTitle": false,
     "title": ""
    }
   },
   "outputs": [],
   "source": [
    "#différentes informations\n",
    "total=df.count()"
   ]
  },
  {
   "cell_type": "markdown",
   "metadata": {
    "application/vnd.databricks.v1+cell": {
     "cellMetadata": {},
     "inputWidgets": {},
     "nuid": "39b9e7b2-03a6-4515-b79d-e5fe60360247",
     "showTitle": false,
     "title": ""
    }
   },
   "source": [
    "<span style=\"color:red\">55_691 enregistrements.</span></BR>"
   ]
  },
  {
   "cell_type": "code",
   "execution_count": 0,
   "metadata": {
    "application/vnd.databricks.v1+cell": {
     "cellMetadata": {
      "byteLimit": 2048000,
      "rowLimit": 10000
     },
     "inputWidgets": {},
     "nuid": "b86b6a43-bc57-4ba2-9aab-1c52deba0a1e",
     "showTitle": false,
     "title": ""
    }
   },
   "outputs": [
    {
     "output_type": "stream",
     "name": "stdout",
     "output_type": "stream",
     "text": [
      "+--------------+-----+\n|     publisher|count|\n+--------------+-----+\n|Big Fish Games|  422|\n|        8floor|  202|\n|          SEGA|  165|\n|Strategy First|  151|\n|   Square Enix|  141|\n+--------------+-----+\nonly showing top 5 rows\n\n"
     ]
    }
   ],
   "source": [
    "# quels sont les 5 meilleurs éditeurs calssés par ordre décroissant ?\n",
    "\n",
    "df.groupBy(\"data.publisher\").count().orderBy(desc(\"count\")).show(5)"
   ]
  },
  {
   "cell_type": "markdown",
   "metadata": {
    "application/vnd.databricks.v1+cell": {
     "cellMetadata": {},
     "inputWidgets": {},
     "nuid": "f98efe48-7b56-4965-9761-04777e775858",
     "showTitle": false,
     "title": ""
    }
   },
   "source": [
    "<span style=\"color:red\">Big Fish Games est largement en tête avec 422 titres publiés.</span></BR>\n",
    "<span style=\"color:red\">A partir de la 3° place, coude à coude entre éditeurs.</span></BR>"
   ]
  },
  {
   "cell_type": "markdown",
   "metadata": {
    "application/vnd.databricks.v1+cell": {
     "cellMetadata": {},
     "inputWidgets": {},
     "nuid": "222e0dde-db8b-4661-b997-388238f66f41",
     "showTitle": false,
     "title": ""
    }
   },
   "source": [
    "## Les jeux les mieux notés"
   ]
  },
  {
   "cell_type": "code",
   "execution_count": 0,
   "metadata": {
    "application/vnd.databricks.v1+cell": {
     "cellMetadata": {
      "byteLimit": 2048000,
      "rowLimit": 10000
     },
     "inputWidgets": {},
     "nuid": "2f69f092-498c-4c9b-ae4a-030f99a54bbc",
     "showTitle": false,
     "title": ""
    }
   },
   "outputs": [
    {
     "output_type": "display_data",
     "data": {
      "text/html": [
       "<style scoped>\n",
       "  .table-result-container {\n",
       "    max-height: 300px;\n",
       "    overflow: auto;\n",
       "  }\n",
       "  table, th, td {\n",
       "    border: 1px solid black;\n",
       "    border-collapse: collapse;\n",
       "  }\n",
       "  th, td {\n",
       "    padding: 5px;\n",
       "  }\n",
       "  th {\n",
       "    text-align: left;\n",
       "  }\n",
       "</style><div class='table-result-container'><table class='table-result'><thead style='background-color: white'><tr><th>name</th><th>publisher</th><th>positive</th><th>negative</th><th>total_reviews</th><th>positive_ratio</th></tr></thead><tbody><tr><td>People Playground</td><td>Studio Minus</td><td>142920</td><td>1649</td><td>144569</td><td>0.9885936819096763</td></tr><tr><td>Portal 2</td><td>Valve</td><td>305671</td><td>3770</td><td>309441</td><td>0.9878167405094994</td></tr><tr><td>Vampire Survivors</td><td>poncle</td><td>130311</td><td>1624</td><td>131935</td><td>0.9876909084018646</td></tr><tr><td>Hades</td><td>Supergiant Games</td><td>199960</td><td>2829</td><td>202789</td><td>0.9860495391761881</td></tr><tr><td>Portal</td><td>Valve</td><td>111786</td><td>1752</td><td>113538</td><td>0.9845690429635893</td></tr><tr><td>RimWorld</td><td>Ludeon Studios</td><td>142201</td><td>2550</td><td>144751</td><td>0.9823835413917693</td></tr><tr><td>Stardew Valley</td><td>ConcernedApe</td><td>497558</td><td>9283</td><td>506841</td><td>0.9816845914201889</td></tr><tr><td>Wallpaper Engine</td><td>Wallpaper Engine Team</td><td>561096</td><td>11031</td><td>572127</td><td>0.9807193158162436</td></tr><tr><td>Helltaker</td><td>vanripper</td><td>105952</td><td>2213</td><td>108165</td><td>0.9795405168030324</td></tr><tr><td>Slay the Spire</td><td>Mega Crit Games</td><td>116347</td><td>2494</td><td>118841</td><td>0.9790139766578875</td></tr></tbody></table></div>"
      ]
     },
     "metadata": {
      "application/vnd.databricks.v1+output": {
       "addedWidgets": {},
       "aggData": [],
       "aggError": "",
       "aggOverflow": false,
       "aggSchema": [],
       "aggSeriesLimitReached": false,
       "aggType": "",
       "arguments": {},
       "columnCustomDisplayInfos": {},
       "data": [
        [
         "People Playground",
         "Studio Minus",
         142920,
         1649,
         144569,
         0.9885936819096763
        ],
        [
         "Portal 2",
         "Valve",
         305671,
         3770,
         309441,
         0.9878167405094994
        ],
        [
         "Vampire Survivors",
         "poncle",
         130311,
         1624,
         131935,
         0.9876909084018646
        ],
        [
         "Hades",
         "Supergiant Games",
         199960,
         2829,
         202789,
         0.9860495391761881
        ],
        [
         "Portal",
         "Valve",
         111786,
         1752,
         113538,
         0.9845690429635893
        ],
        [
         "RimWorld",
         "Ludeon Studios",
         142201,
         2550,
         144751,
         0.9823835413917693
        ],
        [
         "Stardew Valley",
         "ConcernedApe",
         497558,
         9283,
         506841,
         0.9816845914201889
        ],
        [
         "Wallpaper Engine",
         "Wallpaper Engine Team",
         561096,
         11031,
         572127,
         0.9807193158162436
        ],
        [
         "Helltaker",
         "vanripper",
         105952,
         2213,
         108165,
         0.9795405168030324
        ],
        [
         "Slay the Spire",
         "Mega Crit Games",
         116347,
         2494,
         118841,
         0.9790139766578875
        ]
       ],
       "datasetInfos": [],
       "dbfsResultPath": null,
       "isJsonSchema": true,
       "metadata": {},
       "overflow": false,
       "plotOptions": {
        "customPlotOptions": {},
        "displayType": "table",
        "pivotAggregation": null,
        "pivotColumns": null,
        "xColumns": null,
        "yColumns": null
       },
       "removedWidgets": [],
       "schema": [
        {
         "metadata": "{}",
         "name": "name",
         "type": "\"string\""
        },
        {
         "metadata": "{}",
         "name": "publisher",
         "type": "\"string\""
        },
        {
         "metadata": "{}",
         "name": "positive",
         "type": "\"long\""
        },
        {
         "metadata": "{}",
         "name": "negative",
         "type": "\"long\""
        },
        {
         "metadata": "{}",
         "name": "total_reviews",
         "type": "\"long\""
        },
        {
         "metadata": "{}",
         "name": "positive_ratio",
         "type": "\"double\""
        }
       ],
       "type": "table"
      }
     },
     "output_type": "display_data"
    }
   ],
   "source": [
    "# Filtre avec un nombre de votes > 100.000 pour avoir des valeurs significatives et ne pas avoir de outliers.\n",
    "\n",
    "df_jeux = df.select('data.name', 'data.publisher', 'data.positive', 'data.negative')\\\n",
    "    .withColumn('total_reviews', col('positive') + col('negative'))\\\n",
    "    .withColumn('positive_ratio', col('positive') / col('total_reviews'))\\\n",
    "    .filter(col('total_reviews') >= 100000)\\\n",
    "    .orderBy('positive_ratio', ascending=False)\\\n",
    "    .limit(10)\n",
    "\n",
    "display(df_jeux)"
   ]
  },
  {
   "cell_type": "code",
   "execution_count": 0,
   "metadata": {
    "application/vnd.databricks.v1+cell": {
     "cellMetadata": {
      "byteLimit": 2048000,
      "rowLimit": 10000
     },
     "inputWidgets": {},
     "nuid": "88e21bb3-17c8-4f81-9b51-bf299d074e7e",
     "showTitle": false,
     "title": ""
    }
   },
   "outputs": [
    {
     "output_type": "stream",
     "name": "stdout",
     "output_type": "stream",
     "text": [
      "+------------+-----+\n|release_date|count|\n+------------+-----+\n|            |   99|\n|  2020/01/17|   74|\n|  2022/09/30|   64|\n|  2020/10/15|   63|\n|  2021/09/30|   62|\n+------------+-----+\nonly showing top 5 rows\n\n"
     ]
    }
   ],
   "source": [
    "# regroupé par date de sortie\n",
    "df.groupBy(\"data.release_date\").count().orderBy(desc(\"count\")).show(5)"
   ]
  },
  {
   "cell_type": "code",
   "execution_count": 0,
   "metadata": {
    "application/vnd.databricks.v1+cell": {
     "cellMetadata": {
      "byteLimit": 2048000,
      "rowLimit": 10000
     },
     "inputWidgets": {},
     "nuid": "a740f558-e7e3-408b-bf26-9166b53c1966",
     "showTitle": false,
     "title": ""
    }
   },
   "outputs": [
    {
     "output_type": "stream",
     "name": "stdout",
     "output_type": "stream",
     "text": [
      "root\n |-- release_date: date (nullable = true)\n\n"
     ]
    }
   ],
   "source": [
    "# Conversion au format date\n",
    "release_date = df.select(\"data.release_date\")\n",
    "release_date = release_date.withColumn(\"release_date\", col(\"release_date\").cast(DateType()))\n",
    "release_date.printSchema()"
   ]
  },
  {
   "cell_type": "markdown",
   "metadata": {
    "application/vnd.databricks.v1+cell": {
     "cellMetadata": {},
     "inputWidgets": {},
     "nuid": "509a3c66-1e1d-4992-8828-a69f12df599d",
     "showTitle": false,
     "title": ""
    }
   },
   "source": [
    "## Gestion des dates"
   ]
  },
  {
   "cell_type": "code",
   "execution_count": 0,
   "metadata": {
    "application/vnd.databricks.v1+cell": {
     "cellMetadata": {
      "byteLimit": 2048000,
      "rowLimit": 10000
     },
     "inputWidgets": {},
     "nuid": "6c5d5ed2-2d0f-469d-8e95-b3baa208169d",
     "showTitle": false,
     "title": ""
    }
   },
   "outputs": [
    {
     "output_type": "stream",
     "name": "stdout",
     "output_type": "stream",
     "text": [
      "+--------------------+-------+--------------+\n|                data|     id|  release_date|\n+--------------------+-------+--------------+\n|{10, [Multi-playe...|     10| [2000, 11, 1]|\n|{1000000, [Single...|1000000|[2021, 05, 14]|\n|{1000010, [Single...|1000010|[2020, 10, 16]|\n|{1000030, [Multi-...|1000030|[2020, 10, 14]|\n|{1000040, [Single...|1000040|[2019, 03, 30]|\n+--------------------+-------+--------------+\nonly showing top 5 rows\n\n"
     ]
    }
   ],
   "source": [
    "# Eclatement de la date en année, mois, jour\n",
    "release_explode = df.withColumn(\"release_date\", split(df[\"data.release_date\"], \"/\"))\n",
    "release_explode.show(5)"
   ]
  },
  {
   "cell_type": "code",
   "execution_count": 0,
   "metadata": {
    "application/vnd.databricks.v1+cell": {
     "cellMetadata": {
      "byteLimit": 2048000,
      "rowLimit": 10000
     },
     "inputWidgets": {},
     "nuid": "f90fa431-367c-4ae3-977c-0ee92fa2dffb",
     "showTitle": false,
     "title": ""
    }
   },
   "outputs": [
    {
     "output_type": "stream",
     "name": "stdout",
     "output_type": "stream",
     "text": [
      "+--------------------+-------+------------+\n|                data|     id|release_date|\n+--------------------+-------+------------+\n|{10, [Multi-playe...|     10|        2000|\n|{10, [Multi-playe...|     10|          11|\n|{10, [Multi-playe...|     10|           1|\n|{1000000, [Single...|1000000|        2021|\n|{1000000, [Single...|1000000|          05|\n+--------------------+-------+------------+\nonly showing top 5 rows\n\n"
     ]
    }
   ],
   "source": [
    "# on ne garde que les années\n",
    "df_date_explode = release_explode.withColumn(\"release_date\", explode(\"release_date\"))\n",
    "df_date_explode.show(5)"
   ]
  },
  {
   "cell_type": "code",
   "execution_count": 0,
   "metadata": {
    "application/vnd.databricks.v1+cell": {
     "cellMetadata": {
      "byteLimit": 2048000,
      "rowLimit": 10000
     },
     "inputWidgets": {},
     "nuid": "7855aae7-d46a-4b9b-9f70-c9ede0e30c8b",
     "showTitle": false,
     "title": ""
    }
   },
   "outputs": [
    {
     "output_type": "stream",
     "name": "stdout",
     "output_type": "stream",
     "text": [
      "+------------+-----+\n|release_date|count|\n+------------+-----+\n|        2021| 8823|\n|        2020| 8305|\n|        2018| 7678|\n|        2022| 7455|\n|        2019| 6968|\n|        2017| 6017|\n|        2016| 4185|\n|        2015| 2576|\n|        2014| 1557|\n|        2013|  471|\n|        2012|  345|\n|        2009|  311|\n|        2010|  288|\n|        2011|  267|\n|        2008|  159|\n|        2007|   98|\n|        2006|   61|\n|        2005|    6|\n|        2004|    6|\n|        2001|    4|\n|        1999|    3|\n|        2003|    3|\n|        2000|    2|\n|        1997|    2|\n|        2002|    1|\n|        1998|    1|\n+------------+-----+\n\n"
     ]
    }
   ],
   "source": [
    "# Nombre d'enregistrements par année\n",
    "counts_release_date = df_date_explode.groupBy(\"release_date\").count().orderBy(desc(\"count\"))\n",
    "counts_release_date.show(50)"
   ]
  },
  {
   "cell_type": "markdown",
   "metadata": {
    "application/vnd.databricks.v1+cell": {
     "cellMetadata": {},
     "inputWidgets": {},
     "nuid": "02a595e0-8122-45cd-afe4-ff56baabc9e0",
     "showTitle": false,
     "title": ""
    }
   },
   "source": [
    "<span style=\"color:red\">Steam a réellement décollé à partir de 2006 avec 61 titres jusqu'à 2014 où les publications ont quadruplé.</span></BR>\n",
    "<span style=\"color:red\">Puis nouvelle expansion à partir de 2016.</span></BR>\n",
    "<span style=\"color:red\">Il n'y a pas eu d'effet \"Covid\", ni en +, ni en -.</span></BR>"
   ]
  },
  {
   "cell_type": "markdown",
   "metadata": {
    "application/vnd.databricks.v1+cell": {
     "cellMetadata": {},
     "inputWidgets": {},
     "nuid": "14fb9f8f-ccc9-4480-a61b-171fd93fa31d",
     "showTitle": false,
     "title": ""
    }
   },
   "source": [
    "## Distribution des prix de vente."
   ]
  },
  {
   "cell_type": "code",
   "execution_count": 0,
   "metadata": {
    "application/vnd.databricks.v1+cell": {
     "cellMetadata": {
      "byteLimit": 2048000,
      "rowLimit": 10000
     },
     "inputWidgets": {},
     "nuid": "4534258a-ceda-4d5b-b893-9b0d19b53ac5",
     "showTitle": false,
     "title": ""
    }
   },
   "outputs": [
    {
     "output_type": "stream",
     "name": "stdout",
     "output_type": "stream",
     "text": [
      "root\n |-- price: integer (nullable = true)\n\n"
     ]
    }
   ],
   "source": [
    "# Récupération des données de la colonne price\n",
    "price = df.select(\"data.price\")\n",
    "price = price.withColumn(\"price\", col(\"price\").cast(IntegerType()))\n",
    "price.printSchema()"
   ]
  },
  {
   "cell_type": "code",
   "execution_count": 0,
   "metadata": {
    "application/vnd.databricks.v1+cell": {
     "cellMetadata": {
      "byteLimit": 2048000,
      "rowLimit": 10000
     },
     "inputWidgets": {},
     "nuid": "2bf1ccb1-fe9e-4e99-b05f-5385144409cc",
     "showTitle": false,
     "title": ""
    }
   },
   "outputs": [
    {
     "output_type": "stream",
     "name": "stdout",
     "output_type": "stream",
     "text": [
      "+-------+-----------------+\n|summary|            price|\n+-------+-----------------+\n|  count|            55691|\n|   mean|773.2849832109317|\n| stddev| 1093.13458272345|\n|    min|                0|\n|    max|            99900|\n+-------+-----------------+\n\n"
     ]
    }
   ],
   "source": [
    "# Statistiques\n",
    "price.describe().show()"
   ]
  },
  {
   "cell_type": "markdown",
   "metadata": {
    "application/vnd.databricks.v1+cell": {
     "cellMetadata": {},
     "inputWidgets": {},
     "nuid": "0f89952e-c6cd-45c0-9d18-eb85b22b5b3d",
     "showTitle": false,
     "title": ""
    }
   },
   "source": [
    "<span style=\"color:red\">Grosse disparité de prix, entre gratuité et 99_900$.</span></BR>"
   ]
  },
  {
   "cell_type": "code",
   "execution_count": 0,
   "metadata": {
    "application/vnd.databricks.v1+cell": {
     "cellMetadata": {
      "byteLimit": 2048000,
      "rowLimit": 10000
     },
     "inputWidgets": {},
     "nuid": "45e10543-9f50-4d81-b563-1b18c1007466",
     "showTitle": false,
     "title": ""
    }
   },
   "outputs": [
    {
     "output_type": "stream",
     "name": "stdout",
     "output_type": "stream",
     "text": [
      "+----------+\n|max(price)|\n+----------+\n|     99900|\n+----------+\n\n"
     ]
    }
   ],
   "source": [
    "# prix le + élevé\n",
    "max_price = price.select(max(\"price\"))\n",
    "max_price.show()"
   ]
  },
  {
   "cell_type": "code",
   "execution_count": 0,
   "metadata": {
    "application/vnd.databricks.v1+cell": {
     "cellMetadata": {
      "byteLimit": 2048000,
      "rowLimit": 10000
     },
     "inputWidgets": {},
     "nuid": "ddb02433-cd6c-473c-89cc-fd96590e2a6c",
     "showTitle": false,
     "title": ""
    }
   },
   "outputs": [
    {
     "output_type": "stream",
     "name": "stdout",
     "output_type": "stream",
     "text": [
      "+-------+------------------+\n|summary|          discount|\n+-------+------------------+\n|  count|             55691|\n|   mean| 2.603777989262179|\n| stddev|12.887080174743176|\n|    min|                 0|\n|    max|                90|\n+-------+------------------+\n\n"
     ]
    }
   ],
   "source": [
    "df.select(\"data.discount\").describe().show()"
   ]
  },
  {
   "cell_type": "code",
   "execution_count": 0,
   "metadata": {
    "application/vnd.databricks.v1+cell": {
     "cellMetadata": {
      "byteLimit": 2048000,
      "rowLimit": 10000
     },
     "inputWidgets": {},
     "nuid": "69da3a12-40b7-43d6-bdf3-aab9af622bbb",
     "showTitle": false,
     "title": ""
    }
   },
   "outputs": [
    {
     "output_type": "stream",
     "name": "stdout",
     "output_type": "stream",
     "text": [
      "root\n |-- discount: integer (nullable = true)\n\n"
     ]
    }
   ],
   "source": [
    "# Conversion de la colonne discount en entier\n",
    "discount = df.select(\"data.discount\")\n",
    "discount = discount.withColumn(\"discount\", col(\"discount\").cast(IntegerType()))\n",
    "discount.printSchema()"
   ]
  },
  {
   "cell_type": "code",
   "execution_count": 0,
   "metadata": {
    "application/vnd.databricks.v1+cell": {
     "cellMetadata": {
      "byteLimit": 2048000,
      "rowLimit": 10000
     },
     "inputWidgets": {},
     "nuid": "75926f54-a09d-44a5-a0bc-1635aeb6a0fc",
     "showTitle": false,
     "title": ""
    }
   },
   "outputs": [
    {
     "output_type": "stream",
     "name": "stdout",
     "output_type": "stream",
     "text": [
      "Nombre de jeux en promo : 2518\nNombre de jeux total : 55691\nRatio promo/total : 4.52%\n"
     ]
    }
   ],
   "source": [
    "df_discount = df.select(col('data.discount').alias('discount'))\\\n",
    "    .filter(col('discount') > 0)\\\n",
    "    .count()\n",
    "\n",
    "print(f'Nombre de jeux en promo : {df_discount}')\n",
    "print(f'Nombre de jeux total : {total}')\n",
    "print(f'Ratio promo/total : {df_discount/total*100:.2f}%')"
   ]
  },
  {
   "cell_type": "markdown",
   "metadata": {
    "application/vnd.databricks.v1+cell": {
     "cellMetadata": {
      "byteLimit": 2048000,
      "rowLimit": 10000
     },
     "inputWidgets": {},
     "nuid": "c8facf29-5458-4b32-b7c8-82b3d796d631",
     "showTitle": false,
     "title": ""
    }
   },
   "source": [
    "<span style=\"color:red\">Près de 96% des jeux n'ont pas de promotion.</span></BR>"
   ]
  },
  {
   "cell_type": "markdown",
   "metadata": {
    "application/vnd.databricks.v1+cell": {
     "cellMetadata": {},
     "inputWidgets": {},
     "nuid": "f3a90ae6-04fd-4f82-b6d4-2240a99a6fd3",
     "showTitle": false,
     "title": ""
    }
   },
   "source": [
    "## Queles sont les langues les + représentées sur Steam ?"
   ]
  },
  {
   "cell_type": "code",
   "execution_count": 0,
   "metadata": {
    "application/vnd.databricks.v1+cell": {
     "cellMetadata": {
      "byteLimit": 2048000,
      "rowLimit": 10000
     },
     "inputWidgets": {},
     "nuid": "3e2ff1c4-c205-4bfa-880c-eadb2407f49a",
     "showTitle": false,
     "title": ""
    }
   },
   "outputs": [
    {
     "output_type": "stream",
     "name": "stdout",
     "output_type": "stream",
     "text": [
      "+------------------------------------------+-----+\n|languages                                 |count|\n+------------------------------------------+-----+\n|English                                   |29163|\n|English, Russian                          |1881 |\n|English, Simplified Chinese               |1200 |\n|English, Japanese                         |1015 |\n|English, Not supported, Simplified Chinese|683  |\n+------------------------------------------+-----+\nonly showing top 5 rows\n\n"
     ]
    }
   ],
   "source": [
    "df.groupBy(\"data.languages\").count().orderBy(desc(\"count\")).show(5, False)"
   ]
  },
  {
   "cell_type": "code",
   "execution_count": 0,
   "metadata": {
    "application/vnd.databricks.v1+cell": {
     "cellMetadata": {
      "byteLimit": 2048000,
      "rowLimit": 10000
     },
     "inputWidgets": {},
     "nuid": "dfe37079-d2d1-4726-b8a5-d775e5f2c4bf",
     "showTitle": false,
     "title": ""
    }
   },
   "outputs": [
    {
     "output_type": "stream",
     "name": "stdout",
     "output_type": "stream",
     "text": [
      "+--------------------+-------+--------------------+\n|                data|     id|            language|\n+--------------------+-------+--------------------+\n|{10, [Multi-playe...|     10|[English,  French...|\n|{1000000, [Single...|1000000|[English,  Korean...|\n|{1000010, [Single...|1000010|[Simplified Chine...|\n|{1000030, [Multi-...|1000030|           [English]|\n|{1000040, [Single...|1000040|[Simplified Chinese]|\n+--------------------+-------+--------------------+\nonly showing top 5 rows\n\n"
     ]
    }
   ],
   "source": [
    "# Explosion de la colonne lanquage \n",
    "language_explode = df.withColumn(\"language\", split(df[\"data.languages\"], \",\"))\n",
    "language_explode.show(5)"
   ]
  },
  {
   "cell_type": "code",
   "execution_count": 0,
   "metadata": {
    "application/vnd.databricks.v1+cell": {
     "cellMetadata": {
      "byteLimit": 2048000,
      "rowLimit": 10000
     },
     "inputWidgets": {},
     "nuid": "1a1c9acd-32c0-4073-8234-e5ea23cbeda3",
     "showTitle": false,
     "title": ""
    }
   },
   "outputs": [
    {
     "output_type": "stream",
     "name": "stdout",
     "output_type": "stream",
     "text": [
      "root\n |-- data: struct (nullable = true)\n |    |-- appid: long (nullable = true)\n |    |-- categories: array (nullable = true)\n |    |    |-- element: string (containsNull = true)\n |    |-- ccu: long (nullable = true)\n |    |-- developer: string (nullable = true)\n |    |-- discount: string (nullable = true)\n |    |-- genre: string (nullable = true)\n |    |-- header_image: string (nullable = true)\n |    |-- initialprice: string (nullable = true)\n |    |-- languages: string (nullable = true)\n |    |-- name: string (nullable = true)\n |    |-- negative: long (nullable = true)\n |    |-- owners: string (nullable = true)\n |    |-- platforms: struct (nullable = true)\n |    |    |-- linux: boolean (nullable = true)\n |    |    |-- mac: boolean (nullable = true)\n |    |    |-- windows: boolean (nullable = true)\n |    |-- positive: long (nullable = true)\n |    |-- price: string (nullable = true)\n |    |-- publisher: string (nullable = true)\n |    |-- release_date: string (nullable = true)\n |    |-- required_age: string (nullable = true)\n |    |-- short_description: string (nullable = true)\n |    |-- tags: struct (nullable = true)\n |    |    |-- 1980s: long (nullable = true)\n |    |    |-- 1990's: long (nullable = true)\n |    |    |-- 2.5D: long (nullable = true)\n |    |    |-- 2D: long (nullable = true)\n |    |    |-- 2D Fighter: long (nullable = true)\n |    |    |-- 2D Platformer: long (nullable = true)\n |    |    |-- 360 Video: long (nullable = true)\n |    |    |-- 3D: long (nullable = true)\n |    |    |-- 3D Fighter: long (nullable = true)\n |    |    |-- 3D Platformer: long (nullable = true)\n |    |    |-- 3D Vision: long (nullable = true)\n |    |    |-- 4 Player Local: long (nullable = true)\n |    |    |-- 4X: long (nullable = true)\n |    |    |-- 6DOF: long (nullable = true)\n |    |    |-- 8-bit Music: long (nullable = true)\n |    |    |-- ATV: long (nullable = true)\n |    |    |-- Abstract: long (nullable = true)\n |    |    |-- Action: long (nullable = true)\n |    |    |-- Action RPG: long (nullable = true)\n |    |    |-- Action RTS: long (nullable = true)\n |    |    |-- Action Roguelike: long (nullable = true)\n |    |    |-- Action-Adventure: long (nullable = true)\n |    |    |-- Addictive: long (nullable = true)\n |    |    |-- Adventure: long (nullable = true)\n |    |    |-- Agriculture: long (nullable = true)\n |    |    |-- Aliens: long (nullable = true)\n |    |    |-- Alternate History: long (nullable = true)\n |    |    |-- Ambient: long (nullable = true)\n |    |    |-- America: long (nullable = true)\n |    |    |-- Animation & Modeling: long (nullable = true)\n |    |    |-- Anime: long (nullable = true)\n |    |    |-- Arcade: long (nullable = true)\n |    |    |-- Archery: long (nullable = true)\n |    |    |-- Arena Shooter: long (nullable = true)\n |    |    |-- Artificial Intelligence: long (nullable = true)\n |    |    |-- Assassin: long (nullable = true)\n |    |    |-- Asymmetric VR: long (nullable = true)\n |    |    |-- Asynchronous Multiplayer: long (nullable = true)\n |    |    |-- Atmospheric: long (nullable = true)\n |    |    |-- Audio Production: long (nullable = true)\n |    |    |-- Auto Battler: long (nullable = true)\n |    |    |-- Automation: long (nullable = true)\n |    |    |-- Automobile Sim: long (nullable = true)\n |    |    |-- BMX: long (nullable = true)\n |    |    |-- Base-Building: long (nullable = true)\n |    |    |-- Baseball: long (nullable = true)\n |    |    |-- Based On A Novel: long (nullable = true)\n |    |    |-- Basketball: long (nullable = true)\n |    |    |-- Battle Royale: long (nullable = true)\n |    |    |-- Beat 'em up: long (nullable = true)\n |    |    |-- Beautiful: long (nullable = true)\n |    |    |-- Benchmark: long (nullable = true)\n |    |    |-- Bikes: long (nullable = true)\n |    |    |-- Blood: long (nullable = true)\n |    |    |-- Board Game: long (nullable = true)\n |    |    |-- Boss Rush: long (nullable = true)\n |    |    |-- Bowling: long (nullable = true)\n |    |    |-- Boxing: long (nullable = true)\n |    |    |-- Building: long (nullable = true)\n |    |    |-- Bullet Hell: long (nullable = true)\n |    |    |-- Bullet Time: long (nullable = true)\n |    |    |-- CRPG: long (nullable = true)\n |    |    |-- Capitalism: long (nullable = true)\n |    |    |-- Card Battler: long (nullable = true)\n |    |    |-- Card Game: long (nullable = true)\n |    |    |-- Cartoon: long (nullable = true)\n |    |    |-- Cartoony: long (nullable = true)\n |    |    |-- Casual: long (nullable = true)\n |    |    |-- Cats: long (nullable = true)\n |    |    |-- Character Action Game: long (nullable = true)\n |    |    |-- Character Customization: long (nullable = true)\n |    |    |-- Chess: long (nullable = true)\n |    |    |-- Choices Matter: long (nullable = true)\n |    |    |-- Choose Your Own Adventure: long (nullable = true)\n |    |    |-- Cinematic: long (nullable = true)\n |    |    |-- City Builder: long (nullable = true)\n |    |    |-- Class-Based: long (nullable = true)\n |    |    |-- Classic: long (nullable = true)\n |    |    |-- Clicker: long (nullable = true)\n |    |    |-- Co-op: long (nullable = true)\n |    |    |-- Co-op Campaign: long (nullable = true)\n |    |    |-- Coding: long (nullable = true)\n |    |    |-- Cold War: long (nullable = true)\n |    |    |-- Collectathon: long (nullable = true)\n |    |    |-- Colony Sim: long (nullable = true)\n |    |    |-- Colorful: long (nullable = true)\n |    |    |-- Combat: long (nullable = true)\n |    |    |-- Combat Racing: long (nullable = true)\n |    |    |-- Comedy: long (nullable = true)\n |    |    |-- Comic Book: long (nullable = true)\n |    |    |-- Competitive: long (nullable = true)\n |    |    |-- Conspiracy: long (nullable = true)\n |    |    |-- Controller: long (nullable = true)\n |    |    |-- Conversation: long (nullable = true)\n |    |    |-- Cooking: long (nullable = true)\n |    |    |-- Cozy: long (nullable = true)\n |    |    |-- Crafting: long (nullable = true)\n |    |    |-- Creature Collector: long (nullable = true)\n |    |    |-- Cricket: long (nullable = true)\n |    |    |-- Crime: long (nullable = true)\n |    |    |-- Crowdfunded: long (nullable = true)\n |    |    |-- Cult Classic: long (nullable = true)\n |    |    |-- Cute: long (nullable = true)\n |    |    |-- Cyberpunk: long (nullable = true)\n |    |    |-- Cycling: long (nullable = true)\n |    |    |-- Dark: long (nullable = true)\n |    |    |-- Dark Comedy: long (nullable = true)\n |    |    |-- Dark Fantasy: long (nullable = true)\n |    |    |-- Dark Humor: long (nullable = true)\n |    |    |-- Dating Sim: long (nullable = true)\n |    |    |-- Deckbuilding: long (nullable = true)\n |    |    |-- Demons: long (nullable = true)\n |    |    |-- Design & Illustration: long (nullable = true)\n |    |    |-- Destruction: long (nullable = true)\n |    |    |-- Detective: long (nullable = true)\n |    |    |-- Difficult: long (nullable = true)\n |    |    |-- Dinosaurs: long (nullable = true)\n |    |    |-- Diplomacy: long (nullable = true)\n |    |    |-- Documentary: long (nullable = true)\n |    |    |-- Dog: long (nullable = true)\n |    |    |-- Dragons: long (nullable = true)\n |    |    |-- Drama: long (nullable = true)\n |    |    |-- Driving: long (nullable = true)\n |    |    |-- Dungeon Crawler: long (nullable = true)\n |    |    |-- Dungeons & Dragons: long (nullable = true)\n |    |    |-- Dynamic Narration: long (nullable = true)\n |    |    |-- Dystopian : long (nullable = true)\n |    |    |-- Early Access: long (nullable = true)\n |    |    |-- Economy: long (nullable = true)\n |    |    |-- Education: long (nullable = true)\n |    |    |-- Electronic: long (nullable = true)\n |    |    |-- Electronic Music: long (nullable = true)\n |    |    |-- Emotional: long (nullable = true)\n |    |    |-- Epic: long (nullable = true)\n |    |    |-- Episodic: long (nullable = true)\n |    |    |-- Escape Room: long (nullable = true)\n |    |    |-- Experience: long (nullable = true)\n |    |    |-- Experimental: long (nullable = true)\n |    |    |-- Exploration: long (nullable = true)\n |    |    |-- FMV: long (nullable = true)\n |    |    |-- FPS: long (nullable = true)\n |    |    |-- Faith: long (nullable = true)\n |    |    |-- Family Friendly: long (nullable = true)\n |    |    |-- Fantasy: long (nullable = true)\n |    |    |-- Farming: long (nullable = true)\n |    |    |-- Farming Sim: long (nullable = true)\n |    |    |-- Fast-Paced: long (nullable = true)\n |    |    |-- Feature Film: long (nullable = true)\n |    |    |-- Female Protagonist: long (nullable = true)\n |    |    |-- Fighting: long (nullable = true)\n |    |    |-- First-Person: long (nullable = true)\n |    |    |-- Fishing: long (nullable = true)\n |    |    |-- Flight: long (nullable = true)\n |    |    |-- Football: long (nullable = true)\n |    |    |-- Foreign: long (nullable = true)\n |    |    |-- Free to Play: long (nullable = true)\n |    |    |-- Funny: long (nullable = true)\n |    |    |-- Futuristic: long (nullable = true)\n |    |    |-- Gambling: long (nullable = true)\n |    |    |-- Game Development: long (nullable = true)\n |    |    |-- GameMaker: long (nullable = true)\n |    |    |-- Games Workshop: long (nullable = true)\n |    |    |-- Gaming: long (nullable = true)\n |    |    |-- God Game: long (nullable = true)\n |    |    |-- Golf: long (nullable = true)\n |    |    |-- Gore: long (nullable = true)\n |    |    |-- Gothic: long (nullable = true)\n |    |    |-- Grand Strategy: long (nullable = true)\n |    |    |-- Great Soundtrack: long (nullable = true)\n |    |    |-- Grid-Based Movement: long (nullable = true)\n |    |    |-- Gun Customization: long (nullable = true)\n |    |    |-- Hack and Slash: long (nullable = true)\n |    |    |-- Hacking: long (nullable = true)\n |    |    |-- Hand-drawn: long (nullable = true)\n |    |    |-- Hardware: long (nullable = true)\n |    |    |-- Heist: long (nullable = true)\n |    |    |-- Hentai: long (nullable = true)\n |    |    |-- Hero Shooter: long (nullable = true)\n |    |    |-- Hex Grid: long (nullable = true)\n |    |    |-- Hidden Object: long (nullable = true)\n |    |    |-- Historical: long (nullable = true)\n |    |    |-- Hockey: long (nullable = true)\n |    |    |-- Horror: long (nullable = true)\n |    |    |-- Horses: long (nullable = true)\n |    |    |-- Hunting: long (nullable = true)\n |    |    |-- Idler: long (nullable = true)\n |    |    |-- Illuminati: long (nullable = true)\n |    |    |-- Immersive: long (nullable = true)\n |    |    |-- Immersive Sim: long (nullable = true)\n |    |    |-- Indie: long (nullable = true)\n |    |    |-- Instrumental Music: long (nullable = true)\n |    |    |-- Intentionally Awkward Controls: long (nullable = true)\n |    |    |-- Interactive Fiction: long (nullable = true)\n |    |    |-- Inventory Management: long (nullable = true)\n |    |    |-- Investigation: long (nullable = true)\n |    |    |-- Isometric: long (nullable = true)\n |    |    |-- JRPG: long (nullable = true)\n |    |    |-- Jet: long (nullable = true)\n |    |    |-- Job Simulator: long (nullable = true)\n |    |    |-- Jump Scare: long (nullable = true)\n |    |    |-- Kickstarter: long (nullable = true)\n |    |    |-- LEGO: long (nullable = true)\n |    |    |-- LGBTQ+: long (nullable = true)\n |    |    |-- Lemmings: long (nullable = true)\n |    |    |-- Level Editor: long (nullable = true)\n |    |    |-- Life Sim: long (nullable = true)\n |    |    |-- Linear: long (nullable = true)\n |    |    |-- Local Co-Op: long (nullable = true)\n |    |    |-- Local Multiplayer: long (nullable = true)\n |    |    |-- Logic: long (nullable = true)\n |    |    |-- Loot: long (nullable = true)\n |    |    |-- Looter Shooter: long (nullable = true)\n |    |    |-- Lore-Rich: long (nullable = true)\n |    |    |-- Lovecraftian: long (nullable = true)\n |    |    |-- MMORPG: long (nullable = true)\n |    |    |-- MOBA: long (nullable = true)\n |    |    |-- Magic: long (nullable = true)\n |    |    |-- Mahjong: long (nullable = true)\n |    |    |-- Management: long (nullable = true)\n |    |    |-- Mars: long (nullable = true)\n |    |    |-- Martial Arts: long (nullable = true)\n |    |    |-- Massively Multiplayer: long (nullable = true)\n |    |    |-- Masterpiece: long (nullable = true)\n |    |    |-- Match 3: long (nullable = true)\n |    |    |-- Mature: long (nullable = true)\n |    |    |-- Mechs: long (nullable = true)\n |    |    |-- Medical Sim: long (nullable = true)\n |    |    |-- Medieval: long (nullable = true)\n |    |    |-- Memes: long (nullable = true)\n |    |    |-- Metroidvania: long (nullable = true)\n |    |    |-- Military: long (nullable = true)\n |    |    |-- Mini Golf: long (nullable = true)\n |    |    |-- Minigames: long (nullable = true)\n |    |    |-- Minimalist: long (nullable = true)\n |    |    |-- Mining: long (nullable = true)\n |    |    |-- Mod: long (nullable = true)\n |    |    |-- Moddable: long (nullable = true)\n |    |    |-- Modern: long (nullable = true)\n |    |    |-- Motocross: long (nullable = true)\n |    |    |-- Motorbike: long (nullable = true)\n |    |    |-- Mouse only: long (nullable = true)\n |    |    |-- Movie: long (nullable = true)\n |    |    |-- Multiplayer: long (nullable = true)\n |    |    |-- Multiple Endings: long (nullable = true)\n |    |    |-- Music: long (nullable = true)\n |    |    |-- Music-Based Procedural Generation: long (nullable = true)\n |    |    |-- Musou: long (nullable = true)\n |    |    |-- Mystery: long (nullable = true)\n |    |    |-- Mystery Dungeon: long (nullable = true)\n |    |    |-- Mythology: long (nullable = true)\n |    |    |-- NSFW: long (nullable = true)\n |    |    |-- Narration: long (nullable = true)\n |    |    |-- Narrative: long (nullable = true)\n |    |    |-- Nature: long (nullable = true)\n |    |    |-- Naval: long (nullable = true)\n |    |    |-- Naval Combat: long (nullable = true)\n |    |    |-- Ninja: long (nullable = true)\n |    |    |-- Noir: long (nullable = true)\n |    |    |-- Nonlinear: long (nullable = true)\n |    |    |-- Nostalgia: long (nullable = true)\n |    |    |-- Nudity: long (nullable = true)\n |    |    |-- Offroad: long (nullable = true)\n |    |    |-- Old School: long (nullable = true)\n |    |    |-- On-Rails Shooter: long (nullable = true)\n |    |    |-- Online Co-Op: long (nullable = true)\n |    |    |-- Open World: long (nullable = true)\n |    |    |-- Open World Survival Craft: long (nullable = true)\n |    |    |-- Otome: long (nullable = true)\n |    |    |-- Outbreak Sim: long (nullable = true)\n |    |    |-- Parkour: long (nullable = true)\n |    |    |-- Parody : long (nullable = true)\n |    |    |-- Party: long (nullable = true)\n |    |    |-- Party Game: long (nullable = true)\n |    |    |-- Party-Based RPG: long (nullable = true)\n |    |    |-- Perma Death: long (nullable = true)\n |    |    |-- Philosophical: long (nullable = true)\n |    |    |-- Photo Editing: long (nullable = true)\n |    |    |-- Physics: long (nullable = true)\n |    |    |-- Pinball: long (nullable = true)\n |    |    |-- Pirates: long (nullable = true)\n |    |    |-- Pixel Graphics: long (nullable = true)\n |    |    |-- Platformer: long (nullable = true)\n |    |    |-- Point & Click: long (nullable = true)\n |    |    |-- Political: long (nullable = true)\n |    |    |-- Political Sim: long (nullable = true)\n |    |    |-- Politics: long (nullable = true)\n |    |    |-- Pool: long (nullable = true)\n |    |    |-- Post-apocalyptic: long (nullable = true)\n |    |    |-- Precision Platformer: long (nullable = true)\n |    |    |-- Procedural Generation: long (nullable = true)\n |    |    |-- Programming: long (nullable = true)\n |    |    |-- Psychedelic: long (nullable = true)\n |    |    |-- Psychological: long (nullable = true)\n |    |    |-- Psychological Horror: long (nullable = true)\n |    |    |-- Puzzle: long (nullable = true)\n |    |    |-- Puzzle-Platformer: long (nullable = true)\n |    |    |-- PvE: long (nullable = true)\n |    |    |-- PvP: long (nullable = true)\n |    |    |-- Quick-Time Events: long (nullable = true)\n |    |    |-- RPG: long (nullable = true)\n |    |    |-- RPGMaker: long (nullable = true)\n |    |    |-- RTS: long (nullable = true)\n |    |    |-- Racing: long (nullable = true)\n |    |    |-- Real Time Tactics: long (nullable = true)\n |    |    |-- Real-Time: long (nullable = true)\n |    |    |-- Real-Time with Pause: long (nullable = true)\n |    |    |-- Realistic: long (nullable = true)\n |    |    |-- Reboot: long (nullable = true)\n |    |    |-- Relaxing: long (nullable = true)\n |    |    |-- Remake: long (nullable = true)\n |    |    |-- Replay Value: long (nullable = true)\n |    |    |-- Resource Management: long (nullable = true)\n |    |    |-- Retro: long (nullable = true)\n |    |    |-- Rhythm: long (nullable = true)\n |    |    |-- Robots: long (nullable = true)\n |    |    |-- Rock Music: long (nullable = true)\n |    |    |-- Rogue-like: long (nullable = true)\n |    |    |-- Rogue-lite: long (nullable = true)\n |    |    |-- Roguelike Deckbuilder: long (nullable = true)\n |    |    |-- Roguevania: long (nullable = true)\n |    |    |-- Romance: long (nullable = true)\n |    |    |-- Rome: long (nullable = true)\n |    |    |-- Rugby: long (nullable = true)\n |    |    |-- Runner: long (nullable = true)\n |    |    |-- Sailing: long (nullable = true)\n |    |    |-- Sandbox: long (nullable = true)\n |    |    |-- Satire: long (nullable = true)\n |    |    |-- Sci-fi: long (nullable = true)\n |    |    |-- Science: long (nullable = true)\n |    |    |-- Score Attack: long (nullable = true)\n |    |    |-- Sequel: long (nullable = true)\n |    |    |-- Sexual Content: long (nullable = true)\n |    |    |-- Shoot 'Em Up: long (nullable = true)\n |    |    |-- Shooter: long (nullable = true)\n |    |    |-- Shop Keeper: long (nullable = true)\n |    |    |-- Short: long (nullable = true)\n |    |    |-- Side Scroller: long (nullable = true)\n |    |    |-- Silent Protagonist: long (nullable = true)\n |    |    |-- Simulation: long (nullable = true)\n |    |    |-- Singleplayer: long (nullable = true)\n |    |    |-- Skateboarding: long (nullable = true)\n |    |    |-- Skating: long (nullable = true)\n |    |    |-- Skiing: long (nullable = true)\n |    |    |-- Sniper: long (nullable = true)\n |    |    |-- Snooker: long (nullable = true)\n |    |    |-- Snow: long (nullable = true)\n |    |    |-- Snowboarding: long (nullable = true)\n |    |    |-- Soccer: long (nullable = true)\n |    |    |-- Social Deduction: long (nullable = true)\n |    |    |-- Software: long (nullable = true)\n |    |    |-- Software Training: long (nullable = true)\n |    |    |-- Sokoban: long (nullable = true)\n |    |    |-- Solitaire: long (nullable = true)\n |    |    |-- Souls-like: long (nullable = true)\n |    |    |-- Soundtrack: long (nullable = true)\n |    |    |-- Space: long (nullable = true)\n |    |    |-- Space Sim: long (nullable = true)\n |    |    |-- Spaceships: long (nullable = true)\n |    |    |-- Spectacle fighter: long (nullable = true)\n |    |    |-- Spelling: long (nullable = true)\n |    |    |-- Split Screen: long (nullable = true)\n |    |    |-- Sports: long (nullable = true)\n |    |    |-- Stealth: long (nullable = true)\n |    |    |-- Steam Machine: long (nullable = true)\n |    |    |-- Steampunk: long (nullable = true)\n |    |    |-- Story Rich: long (nullable = true)\n |    |    |-- Strategy: long (nullable = true)\n |    |    |-- Strategy RPG: long (nullable = true)\n |    |    |-- Stylized: long (nullable = true)\n |    |    |-- Submarine: long (nullable = true)\n |    |    |-- Superhero: long (nullable = true)\n |    |    |-- Supernatural: long (nullable = true)\n |    |    |-- Surreal: long (nullable = true)\n |    |    |-- Survival: long (nullable = true)\n |    |    |-- Survival Horror: long (nullable = true)\n |    |    |-- Swordplay: long (nullable = true)\n |    |    |-- Tabletop: long (nullable = true)\n |    |    |-- Tactical: long (nullable = true)\n |    |    |-- Tactical RPG: long (nullable = true)\n |    |    |-- Tanks: long (nullable = true)\n |    |    |-- Team-Based: long (nullable = true)\n |    |    |-- Tennis: long (nullable = true)\n |    |    |-- Text-Based: long (nullable = true)\n |    |    |-- Third Person: long (nullable = true)\n |    |    |-- Third-Person Shooter: long (nullable = true)\n |    |    |-- Thriller: long (nullable = true)\n |    |    |-- Tile-Matching: long (nullable = true)\n |    |    |-- Time Attack: long (nullable = true)\n |    |    |-- Time Management: long (nullable = true)\n |    |    |-- Time Manipulation: long (nullable = true)\n |    |    |-- Time Travel: long (nullable = true)\n |    |    |-- Top-Down: long (nullable = true)\n |    |    |-- Top-Down Shooter: long (nullable = true)\n |    |    |-- Touch-Friendly: long (nullable = true)\n |    |    |-- Tower Defense: long (nullable = true)\n |    |    |-- TrackIR: long (nullable = true)\n |    |    |-- Trading: long (nullable = true)\n |    |    |-- Trading Card Game: long (nullable = true)\n |    |    |-- Traditional Roguelike: long (nullable = true)\n |    |    |-- Trains: long (nullable = true)\n |    |    |-- Transhumanism: long (nullable = true)\n |    |    |-- Transportation: long (nullable = true)\n |    |    |-- Trivia: long (nullable = true)\n |    |    |-- Turn-Based: long (nullable = true)\n |    |    |-- Turn-Based Combat: long (nullable = true)\n |    |    |-- Turn-Based Strategy: long (nullable = true)\n |    |    |-- Turn-Based Tactics: long (nullable = true)\n |    |    |-- Tutorial: long (nullable = true)\n |    |    |-- Twin Stick Shooter: long (nullable = true)\n |    |    |-- Typing: long (nullable = true)\n |    |    |-- Underground: long (nullable = true)\n |    |    |-- Underwater: long (nullable = true)\n |    |    |-- Unforgiving: long (nullable = true)\n |    |    |-- Utilities: long (nullable = true)\n |    |    |-- VR: long (nullable = true)\n |    |    |-- VR Only: long (nullable = true)\n |    |    |-- Vampire: long (nullable = true)\n |    |    |-- Vehicular Combat: long (nullable = true)\n |    |    |-- Video Production: long (nullable = true)\n |    |    |-- Vikings: long (nullable = true)\n |    |    |-- Villain Protagonist: long (nullable = true)\n |    |    |-- Violent: long (nullable = true)\n |    |    |-- Visual Novel: long (nullable = true)\n |    |    |-- Voice Control: long (nullable = true)\n |    |    |-- Volleyball: long (nullable = true)\n |    |    |-- Voxel: long (nullable = true)\n |    |    |-- Walking Simulator: long (nullable = true)\n |    |    |-- War: long (nullable = true)\n |    |    |-- Wargame: long (nullable = true)\n |    |    |-- Warhammer 40K: long (nullable = true)\n |    |    |-- Web Publishing: long (nullable = true)\n |    |    |-- Well-Written: long (nullable = true)\n |    |    |-- Werewolves: long (nullable = true)\n |    |    |-- Western: long (nullable = true)\n |    |    |-- Wholesome: long (nullable = true)\n |    |    |-- Word Game: long (nullable = true)\n |    |    |-- World War I: long (nullable = true)\n |    |    |-- World War II: long (nullable = true)\n |    |    |-- Wrestling: long (nullable = true)\n |    |    |-- Zombies: long (nullable = true)\n |    |    |-- e-sports: long (nullable = true)\n |    |-- type: string (nullable = true)\n |    |-- website: string (nullable = true)\n |-- id: string (nullable = true)\n |-- language: string (nullable = false)\n\n+--------------------+-------+--------------------+\n|                data|     id|            language|\n+--------------------+-------+--------------------+\n|{10, [Multi-playe...|     10|             English|\n|{10, [Multi-playe...|     10|              French|\n|{10, [Multi-playe...|     10|              German|\n|{10, [Multi-playe...|     10|             Italian|\n|{10, [Multi-playe...|     10|     Spanish - Spain|\n|{10, [Multi-playe...|     10|  Simplified Chinese|\n|{10, [Multi-playe...|     10| Traditional Chinese|\n|{10, [Multi-playe...|     10|              Korean|\n|{1000000, [Single...|1000000|             English|\n|{1000000, [Single...|1000000|              Korean|\n|{1000000, [Single...|1000000|  Simplified Chinese|\n|{1000010, [Single...|1000010|  Simplified Chinese|\n|{1000010, [Single...|1000010|             English|\n|{1000010, [Single...|1000010|            Japanese|\n|{1000010, [Single...|1000010| Traditional Chinese|\n|{1000010, [Single...|1000010|              French|\n|{1000010, [Single...|1000010|              German|\n|{1000010, [Single...|1000010|     Spanish - Spain|\n|{1000010, [Single...|1000010|             Russian|\n|{1000010, [Single...|1000010| Portuguese - Brazil|\n+--------------------+-------+--------------------+\nonly showing top 20 rows\n\n"
     ]
    }
   ],
   "source": [
    "# EXplosion de la colonne language \n",
    "df_lang_explode = language_explode.withColumn(\"language\", explode(\"language\"))\n",
    "df_lang_explode.printSchema()\n",
    "df_lang_explode.show()"
   ]
  },
  {
   "cell_type": "code",
   "execution_count": 0,
   "metadata": {
    "application/vnd.databricks.v1+cell": {
     "cellMetadata": {
      "byteLimit": 2048000,
      "rowLimit": 10000
     },
     "inputWidgets": {},
     "nuid": "4c27f200-d791-4f83-92bc-1f41e2c212b7",
     "showTitle": false,
     "title": ""
    }
   },
   "outputs": [
    {
     "output_type": "stream",
     "name": "stdout",
     "output_type": "stream",
     "text": [
      "+--------------------+-----+\n|            language|count|\n+--------------------+-----+\n|             English|54646|\n|              German|13996|\n|              French|13406|\n|             Russian|12839|\n|     Spanish - Spain|12224|\n|  Simplified Chinese|12213|\n|            Japanese|10170|\n|             Italian| 9297|\n| Portuguese - Brazil| 6739|\n|              Korean| 6575|\n+--------------------+-----+\nonly showing top 10 rows\n\n"
     ]
    }
   ],
   "source": [
    "# Classement des 10° langues\n",
    "df_lang_explode.groupBy(\"language\").count().orderBy(desc(\"count\")).show(10)"
   ]
  },
  {
   "cell_type": "markdown",
   "metadata": {
    "application/vnd.databricks.v1+cell": {
     "cellMetadata": {},
     "inputWidgets": {},
     "nuid": "921d2e1c-f1c3-40b4-8b84-6ac96d709b99",
     "showTitle": false,
     "title": ""
    }
   },
   "source": [
    "<span style=\"color:red\">L'anglais est de loin la langue la + représentée.</span></BR>"
   ]
  },
  {
   "cell_type": "markdown",
   "metadata": {
    "application/vnd.databricks.v1+cell": {
     "cellMetadata": {},
     "inputWidgets": {},
     "nuid": "85bcceed-4753-4b86-9e25-9cfa8c90da0f",
     "showTitle": false,
     "title": ""
    }
   },
   "source": [
    "## Les jeux pour les + de 16 ans"
   ]
  },
  {
   "cell_type": "code",
   "execution_count": 0,
   "metadata": {
    "application/vnd.databricks.v1+cell": {
     "cellMetadata": {
      "byteLimit": 2048000,
      "rowLimit": 10000
     },
     "inputWidgets": {},
     "nuid": "7261adf2-ae4c-4d46-b185-daf303229d9b",
     "showTitle": false,
     "title": ""
    }
   },
   "outputs": [
    {
     "output_type": "stream",
     "name": "stdout",
     "output_type": "stream",
     "text": [
      "root\n |-- required_age: integer (nullable = true)\n\n"
     ]
    }
   ],
   "source": [
    "required_age = df.select(\"data.required_age\")\n",
    "required_age = required_age.withColumn(\"required_age\", col(\"required_age\").cast(IntegerType()))\n",
    "required_age.printSchema()"
   ]
  },
  {
   "cell_type": "code",
   "execution_count": 0,
   "metadata": {
    "application/vnd.databricks.v1+cell": {
     "cellMetadata": {
      "byteLimit": 2048000,
      "rowLimit": 10000
     },
     "inputWidgets": {},
     "nuid": "8d57295f-3435-4b2c-9860-9ee1c3e92d99",
     "showTitle": false,
     "title": ""
    }
   },
   "outputs": [
    {
     "output_type": "stream",
     "name": "stdout",
     "output_type": "stream",
     "text": [
      "Out[36]: DataFrame[summary: string, required_age: string]"
     ]
    }
   ],
   "source": [
    "# Statistiques\n",
    "required_age.describe()"
   ]
  },
  {
   "cell_type": "code",
   "execution_count": 0,
   "metadata": {
    "application/vnd.databricks.v1+cell": {
     "cellMetadata": {
      "byteLimit": 2048000,
      "rowLimit": 10000
     },
     "inputWidgets": {},
     "nuid": "e3cabdf0-cf91-44e6-9cf7-3121f18cb176",
     "showTitle": false,
     "title": ""
    }
   },
   "outputs": [
    {
     "output_type": "stream",
     "name": "stdout",
     "output_type": "stream",
     "text": [
      "299 jeux interdits au moins de 16 ans, soit 0.54 % des jeux de la plateforme\n"
     ]
    }
   ],
   "source": [
    "df_required_age = df.filter(col('data.required_age').cast('int') >= 16)\\\n",
    "    .groupBy('data.required_age')\\\n",
    "    .count()\\\n",
    "    .sort('count', ascending=False)\\\n",
    "    .limit(3)\n",
    "\n",
    "required_age_sum = df_required_age.agg({'count': 'sum'}).collect()[0][0]\n",
    "\n",
    "print(f'{required_age_sum} jeux interdits au moins de 16 ans, soit {required_age_sum / total * 100:.2f} % des jeux de la plateforme')"
   ]
  },
  {
   "cell_type": "markdown",
   "metadata": {
    "application/vnd.databricks.v1+cell": {
     "cellMetadata": {},
     "inputWidgets": {},
     "nuid": "863e8b03-f848-4c5a-8483-7069a66cfb5f",
     "showTitle": false,
     "title": ""
    }
   },
   "source": [
    "<span style=\"color:red\">299 jeux soit 99.46% des jeux n'ont pas de restictions pour les enfants de moins de 16 ans.</span></BR>"
   ]
  },
  {
   "cell_type": "markdown",
   "metadata": {
    "application/vnd.databricks.v1+cell": {
     "cellMetadata": {},
     "inputWidgets": {},
     "nuid": "4e11b2a9-f0c9-4e36-855e-ef842bbcdadc",
     "showTitle": false,
     "title": ""
    }
   },
   "source": [
    "## Analyse sur les genres des jeux."
   ]
  },
  {
   "cell_type": "code",
   "execution_count": 0,
   "metadata": {
    "application/vnd.databricks.v1+cell": {
     "cellMetadata": {
      "byteLimit": 2048000,
      "rowLimit": 10000
     },
     "inputWidgets": {},
     "nuid": "e3b68fae-abd0-4120-ba14-ea1215e03e37",
     "showTitle": false,
     "title": ""
    }
   },
   "outputs": [
    {
     "output_type": "stream",
     "name": "stdout",
     "output_type": "stream",
     "text": [
      "root\n |-- data: struct (nullable = true)\n |    |-- appid: long (nullable = true)\n |    |-- categories: array (nullable = true)\n |    |    |-- element: string (containsNull = true)\n |    |-- ccu: long (nullable = true)\n |    |-- developer: string (nullable = true)\n |    |-- discount: string (nullable = true)\n |    |-- genre: string (nullable = true)\n |    |-- header_image: string (nullable = true)\n |    |-- initialprice: string (nullable = true)\n |    |-- languages: string (nullable = true)\n |    |-- name: string (nullable = true)\n |    |-- negative: long (nullable = true)\n |    |-- owners: string (nullable = true)\n |    |-- platforms: struct (nullable = true)\n |    |    |-- linux: boolean (nullable = true)\n |    |    |-- mac: boolean (nullable = true)\n |    |    |-- windows: boolean (nullable = true)\n |    |-- positive: long (nullable = true)\n |    |-- price: string (nullable = true)\n |    |-- publisher: string (nullable = true)\n |    |-- release_date: string (nullable = true)\n |    |-- required_age: string (nullable = true)\n |    |-- short_description: string (nullable = true)\n |    |-- tags: struct (nullable = true)\n |    |    |-- 1980s: long (nullable = true)\n |    |    |-- 1990's: long (nullable = true)\n |    |    |-- 2.5D: long (nullable = true)\n |    |    |-- 2D: long (nullable = true)\n |    |    |-- 2D Fighter: long (nullable = true)\n |    |    |-- 2D Platformer: long (nullable = true)\n |    |    |-- 360 Video: long (nullable = true)\n |    |    |-- 3D: long (nullable = true)\n |    |    |-- 3D Fighter: long (nullable = true)\n |    |    |-- 3D Platformer: long (nullable = true)\n |    |    |-- 3D Vision: long (nullable = true)\n |    |    |-- 4 Player Local: long (nullable = true)\n |    |    |-- 4X: long (nullable = true)\n |    |    |-- 6DOF: long (nullable = true)\n |    |    |-- 8-bit Music: long (nullable = true)\n |    |    |-- ATV: long (nullable = true)\n |    |    |-- Abstract: long (nullable = true)\n |    |    |-- Action: long (nullable = true)\n |    |    |-- Action RPG: long (nullable = true)\n |    |    |-- Action RTS: long (nullable = true)\n |    |    |-- Action Roguelike: long (nullable = true)\n |    |    |-- Action-Adventure: long (nullable = true)\n |    |    |-- Addictive: long (nullable = true)\n |    |    |-- Adventure: long (nullable = true)\n |    |    |-- Agriculture: long (nullable = true)\n |    |    |-- Aliens: long (nullable = true)\n |    |    |-- Alternate History: long (nullable = true)\n |    |    |-- Ambient: long (nullable = true)\n |    |    |-- America: long (nullable = true)\n |    |    |-- Animation & Modeling: long (nullable = true)\n |    |    |-- Anime: long (nullable = true)\n |    |    |-- Arcade: long (nullable = true)\n |    |    |-- Archery: long (nullable = true)\n |    |    |-- Arena Shooter: long (nullable = true)\n |    |    |-- Artificial Intelligence: long (nullable = true)\n |    |    |-- Assassin: long (nullable = true)\n |    |    |-- Asymmetric VR: long (nullable = true)\n |    |    |-- Asynchronous Multiplayer: long (nullable = true)\n |    |    |-- Atmospheric: long (nullable = true)\n |    |    |-- Audio Production: long (nullable = true)\n |    |    |-- Auto Battler: long (nullable = true)\n |    |    |-- Automation: long (nullable = true)\n |    |    |-- Automobile Sim: long (nullable = true)\n |    |    |-- BMX: long (nullable = true)\n |    |    |-- Base-Building: long (nullable = true)\n |    |    |-- Baseball: long (nullable = true)\n |    |    |-- Based On A Novel: long (nullable = true)\n |    |    |-- Basketball: long (nullable = true)\n |    |    |-- Battle Royale: long (nullable = true)\n |    |    |-- Beat 'em up: long (nullable = true)\n |    |    |-- Beautiful: long (nullable = true)\n |    |    |-- Benchmark: long (nullable = true)\n |    |    |-- Bikes: long (nullable = true)\n |    |    |-- Blood: long (nullable = true)\n |    |    |-- Board Game: long (nullable = true)\n |    |    |-- Boss Rush: long (nullable = true)\n |    |    |-- Bowling: long (nullable = true)\n |    |    |-- Boxing: long (nullable = true)\n |    |    |-- Building: long (nullable = true)\n |    |    |-- Bullet Hell: long (nullable = true)\n |    |    |-- Bullet Time: long (nullable = true)\n |    |    |-- CRPG: long (nullable = true)\n |    |    |-- Capitalism: long (nullable = true)\n |    |    |-- Card Battler: long (nullable = true)\n |    |    |-- Card Game: long (nullable = true)\n |    |    |-- Cartoon: long (nullable = true)\n |    |    |-- Cartoony: long (nullable = true)\n |    |    |-- Casual: long (nullable = true)\n |    |    |-- Cats: long (nullable = true)\n |    |    |-- Character Action Game: long (nullable = true)\n |    |    |-- Character Customization: long (nullable = true)\n |    |    |-- Chess: long (nullable = true)\n |    |    |-- Choices Matter: long (nullable = true)\n |    |    |-- Choose Your Own Adventure: long (nullable = true)\n |    |    |-- Cinematic: long (nullable = true)\n |    |    |-- City Builder: long (nullable = true)\n |    |    |-- Class-Based: long (nullable = true)\n |    |    |-- Classic: long (nullable = true)\n |    |    |-- Clicker: long (nullable = true)\n |    |    |-- Co-op: long (nullable = true)\n |    |    |-- Co-op Campaign: long (nullable = true)\n |    |    |-- Coding: long (nullable = true)\n |    |    |-- Cold War: long (nullable = true)\n |    |    |-- Collectathon: long (nullable = true)\n |    |    |-- Colony Sim: long (nullable = true)\n |    |    |-- Colorful: long (nullable = true)\n |    |    |-- Combat: long (nullable = true)\n |    |    |-- Combat Racing: long (nullable = true)\n |    |    |-- Comedy: long (nullable = true)\n |    |    |-- Comic Book: long (nullable = true)\n |    |    |-- Competitive: long (nullable = true)\n |    |    |-- Conspiracy: long (nullable = true)\n |    |    |-- Controller: long (nullable = true)\n |    |    |-- Conversation: long (nullable = true)\n |    |    |-- Cooking: long (nullable = true)\n |    |    |-- Cozy: long (nullable = true)\n |    |    |-- Crafting: long (nullable = true)\n |    |    |-- Creature Collector: long (nullable = true)\n |    |    |-- Cricket: long (nullable = true)\n |    |    |-- Crime: long (nullable = true)\n |    |    |-- Crowdfunded: long (nullable = true)\n |    |    |-- Cult Classic: long (nullable = true)\n |    |    |-- Cute: long (nullable = true)\n |    |    |-- Cyberpunk: long (nullable = true)\n |    |    |-- Cycling: long (nullable = true)\n |    |    |-- Dark: long (nullable = true)\n |    |    |-- Dark Comedy: long (nullable = true)\n |    |    |-- Dark Fantasy: long (nullable = true)\n |    |    |-- Dark Humor: long (nullable = true)\n |    |    |-- Dating Sim: long (nullable = true)\n |    |    |-- Deckbuilding: long (nullable = true)\n |    |    |-- Demons: long (nullable = true)\n |    |    |-- Design & Illustration: long (nullable = true)\n |    |    |-- Destruction: long (nullable = true)\n |    |    |-- Detective: long (nullable = true)\n |    |    |-- Difficult: long (nullable = true)\n |    |    |-- Dinosaurs: long (nullable = true)\n |    |    |-- Diplomacy: long (nullable = true)\n |    |    |-- Documentary: long (nullable = true)\n |    |    |-- Dog: long (nullable = true)\n |    |    |-- Dragons: long (nullable = true)\n |    |    |-- Drama: long (nullable = true)\n |    |    |-- Driving: long (nullable = true)\n |    |    |-- Dungeon Crawler: long (nullable = true)\n |    |    |-- Dungeons & Dragons: long (nullable = true)\n |    |    |-- Dynamic Narration: long (nullable = true)\n |    |    |-- Dystopian : long (nullable = true)\n |    |    |-- Early Access: long (nullable = true)\n |    |    |-- Economy: long (nullable = true)\n |    |    |-- Education: long (nullable = true)\n |    |    |-- Electronic: long (nullable = true)\n |    |    |-- Electronic Music: long (nullable = true)\n |    |    |-- Emotional: long (nullable = true)\n |    |    |-- Epic: long (nullable = true)\n |    |    |-- Episodic: long (nullable = true)\n |    |    |-- Escape Room: long (nullable = true)\n |    |    |-- Experience: long (nullable = true)\n |    |    |-- Experimental: long (nullable = true)\n |    |    |-- Exploration: long (nullable = true)\n |    |    |-- FMV: long (nullable = true)\n |    |    |-- FPS: long (nullable = true)\n |    |    |-- Faith: long (nullable = true)\n |    |    |-- Family Friendly: long (nullable = true)\n |    |    |-- Fantasy: long (nullable = true)\n |    |    |-- Farming: long (nullable = true)\n |    |    |-- Farming Sim: long (nullable = true)\n |    |    |-- Fast-Paced: long (nullable = true)\n |    |    |-- Feature Film: long (nullable = true)\n |    |    |-- Female Protagonist: long (nullable = true)\n |    |    |-- Fighting: long (nullable = true)\n |    |    |-- First-Person: long (nullable = true)\n |    |    |-- Fishing: long (nullable = true)\n |    |    |-- Flight: long (nullable = true)\n |    |    |-- Football: long (nullable = true)\n |    |    |-- Foreign: long (nullable = true)\n |    |    |-- Free to Play: long (nullable = true)\n |    |    |-- Funny: long (nullable = true)\n |    |    |-- Futuristic: long (nullable = true)\n |    |    |-- Gambling: long (nullable = true)\n |    |    |-- Game Development: long (nullable = true)\n |    |    |-- GameMaker: long (nullable = true)\n |    |    |-- Games Workshop: long (nullable = true)\n |    |    |-- Gaming: long (nullable = true)\n |    |    |-- God Game: long (nullable = true)\n |    |    |-- Golf: long (nullable = true)\n |    |    |-- Gore: long (nullable = true)\n |    |    |-- Gothic: long (nullable = true)\n |    |    |-- Grand Strategy: long (nullable = true)\n |    |    |-- Great Soundtrack: long (nullable = true)\n |    |    |-- Grid-Based Movement: long (nullable = true)\n |    |    |-- Gun Customization: long (nullable = true)\n |    |    |-- Hack and Slash: long (nullable = true)\n |    |    |-- Hacking: long (nullable = true)\n |    |    |-- Hand-drawn: long (nullable = true)\n |    |    |-- Hardware: long (nullable = true)\n |    |    |-- Heist: long (nullable = true)\n |    |    |-- Hentai: long (nullable = true)\n |    |    |-- Hero Shooter: long (nullable = true)\n |    |    |-- Hex Grid: long (nullable = true)\n |    |    |-- Hidden Object: long (nullable = true)\n |    |    |-- Historical: long (nullable = true)\n |    |    |-- Hockey: long (nullable = true)\n |    |    |-- Horror: long (nullable = true)\n |    |    |-- Horses: long (nullable = true)\n |    |    |-- Hunting: long (nullable = true)\n |    |    |-- Idler: long (nullable = true)\n |    |    |-- Illuminati: long (nullable = true)\n |    |    |-- Immersive: long (nullable = true)\n |    |    |-- Immersive Sim: long (nullable = true)\n |    |    |-- Indie: long (nullable = true)\n |    |    |-- Instrumental Music: long (nullable = true)\n |    |    |-- Intentionally Awkward Controls: long (nullable = true)\n |    |    |-- Interactive Fiction: long (nullable = true)\n |    |    |-- Inventory Management: long (nullable = true)\n |    |    |-- Investigation: long (nullable = true)\n |    |    |-- Isometric: long (nullable = true)\n |    |    |-- JRPG: long (nullable = true)\n |    |    |-- Jet: long (nullable = true)\n |    |    |-- Job Simulator: long (nullable = true)\n |    |    |-- Jump Scare: long (nullable = true)\n |    |    |-- Kickstarter: long (nullable = true)\n |    |    |-- LEGO: long (nullable = true)\n |    |    |-- LGBTQ+: long (nullable = true)\n |    |    |-- Lemmings: long (nullable = true)\n |    |    |-- Level Editor: long (nullable = true)\n |    |    |-- Life Sim: long (nullable = true)\n |    |    |-- Linear: long (nullable = true)\n |    |    |-- Local Co-Op: long (nullable = true)\n |    |    |-- Local Multiplayer: long (nullable = true)\n |    |    |-- Logic: long (nullable = true)\n |    |    |-- Loot: long (nullable = true)\n |    |    |-- Looter Shooter: long (nullable = true)\n |    |    |-- Lore-Rich: long (nullable = true)\n |    |    |-- Lovecraftian: long (nullable = true)\n |    |    |-- MMORPG: long (nullable = true)\n |    |    |-- MOBA: long (nullable = true)\n |    |    |-- Magic: long (nullable = true)\n |    |    |-- Mahjong: long (nullable = true)\n |    |    |-- Management: long (nullable = true)\n |    |    |-- Mars: long (nullable = true)\n |    |    |-- Martial Arts: long (nullable = true)\n |    |    |-- Massively Multiplayer: long (nullable = true)\n |    |    |-- Masterpiece: long (nullable = true)\n |    |    |-- Match 3: long (nullable = true)\n |    |    |-- Mature: long (nullable = true)\n |    |    |-- Mechs: long (nullable = true)\n |    |    |-- Medical Sim: long (nullable = true)\n |    |    |-- Medieval: long (nullable = true)\n |    |    |-- Memes: long (nullable = true)\n |    |    |-- Metroidvania: long (nullable = true)\n |    |    |-- Military: long (nullable = true)\n |    |    |-- Mini Golf: long (nullable = true)\n |    |    |-- Minigames: long (nullable = true)\n |    |    |-- Minimalist: long (nullable = true)\n |    |    |-- Mining: long (nullable = true)\n |    |    |-- Mod: long (nullable = true)\n |    |    |-- Moddable: long (nullable = true)\n |    |    |-- Modern: long (nullable = true)\n |    |    |-- Motocross: long (nullable = true)\n |    |    |-- Motorbike: long (nullable = true)\n |    |    |-- Mouse only: long (nullable = true)\n |    |    |-- Movie: long (nullable = true)\n |    |    |-- Multiplayer: long (nullable = true)\n |    |    |-- Multiple Endings: long (nullable = true)\n |    |    |-- Music: long (nullable = true)\n |    |    |-- Music-Based Procedural Generation: long (nullable = true)\n |    |    |-- Musou: long (nullable = true)\n |    |    |-- Mystery: long (nullable = true)\n |    |    |-- Mystery Dungeon: long (nullable = true)\n |    |    |-- Mythology: long (nullable = true)\n |    |    |-- NSFW: long (nullable = true)\n |    |    |-- Narration: long (nullable = true)\n |    |    |-- Narrative: long (nullable = true)\n |    |    |-- Nature: long (nullable = true)\n |    |    |-- Naval: long (nullable = true)\n |    |    |-- Naval Combat: long (nullable = true)\n |    |    |-- Ninja: long (nullable = true)\n |    |    |-- Noir: long (nullable = true)\n |    |    |-- Nonlinear: long (nullable = true)\n |    |    |-- Nostalgia: long (nullable = true)\n |    |    |-- Nudity: long (nullable = true)\n |    |    |-- Offroad: long (nullable = true)\n |    |    |-- Old School: long (nullable = true)\n |    |    |-- On-Rails Shooter: long (nullable = true)\n |    |    |-- Online Co-Op: long (nullable = true)\n |    |    |-- Open World: long (nullable = true)\n |    |    |-- Open World Survival Craft: long (nullable = true)\n |    |    |-- Otome: long (nullable = true)\n |    |    |-- Outbreak Sim: long (nullable = true)\n |    |    |-- Parkour: long (nullable = true)\n |    |    |-- Parody : long (nullable = true)\n |    |    |-- Party: long (nullable = true)\n |    |    |-- Party Game: long (nullable = true)\n |    |    |-- Party-Based RPG: long (nullable = true)\n |    |    |-- Perma Death: long (nullable = true)\n |    |    |-- Philosophical: long (nullable = true)\n |    |    |-- Photo Editing: long (nullable = true)\n |    |    |-- Physics: long (nullable = true)\n |    |    |-- Pinball: long (nullable = true)\n |    |    |-- Pirates: long (nullable = true)\n |    |    |-- Pixel Graphics: long (nullable = true)\n |    |    |-- Platformer: long (nullable = true)\n |    |    |-- Point & Click: long (nullable = true)\n |    |    |-- Political: long (nullable = true)\n |    |    |-- Political Sim: long (nullable = true)\n |    |    |-- Politics: long (nullable = true)\n |    |    |-- Pool: long (nullable = true)\n |    |    |-- Post-apocalyptic: long (nullable = true)\n |    |    |-- Precision Platformer: long (nullable = true)\n |    |    |-- Procedural Generation: long (nullable = true)\n |    |    |-- Programming: long (nullable = true)\n |    |    |-- Psychedelic: long (nullable = true)\n |    |    |-- Psychological: long (nullable = true)\n |    |    |-- Psychological Horror: long (nullable = true)\n |    |    |-- Puzzle: long (nullable = true)\n |    |    |-- Puzzle-Platformer: long (nullable = true)\n |    |    |-- PvE: long (nullable = true)\n |    |    |-- PvP: long (nullable = true)\n |    |    |-- Quick-Time Events: long (nullable = true)\n |    |    |-- RPG: long (nullable = true)\n |    |    |-- RPGMaker: long (nullable = true)\n |    |    |-- RTS: long (nullable = true)\n |    |    |-- Racing: long (nullable = true)\n |    |    |-- Real Time Tactics: long (nullable = true)\n |    |    |-- Real-Time: long (nullable = true)\n |    |    |-- Real-Time with Pause: long (nullable = true)\n |    |    |-- Realistic: long (nullable = true)\n |    |    |-- Reboot: long (nullable = true)\n |    |    |-- Relaxing: long (nullable = true)\n |    |    |-- Remake: long (nullable = true)\n |    |    |-- Replay Value: long (nullable = true)\n |    |    |-- Resource Management: long (nullable = true)\n |    |    |-- Retro: long (nullable = true)\n |    |    |-- Rhythm: long (nullable = true)\n |    |    |-- Robots: long (nullable = true)\n |    |    |-- Rock Music: long (nullable = true)\n |    |    |-- Rogue-like: long (nullable = true)\n |    |    |-- Rogue-lite: long (nullable = true)\n |    |    |-- Roguelike Deckbuilder: long (nullable = true)\n |    |    |-- Roguevania: long (nullable = true)\n |    |    |-- Romance: long (nullable = true)\n |    |    |-- Rome: long (nullable = true)\n |    |    |-- Rugby: long (nullable = true)\n |    |    |-- Runner: long (nullable = true)\n |    |    |-- Sailing: long (nullable = true)\n |    |    |-- Sandbox: long (nullable = true)\n |    |    |-- Satire: long (nullable = true)\n |    |    |-- Sci-fi: long (nullable = true)\n |    |    |-- Science: long (nullable = true)\n |    |    |-- Score Attack: long (nullable = true)\n |    |    |-- Sequel: long (nullable = true)\n |    |    |-- Sexual Content: long (nullable = true)\n |    |    |-- Shoot 'Em Up: long (nullable = true)\n |    |    |-- Shooter: long (nullable = true)\n |    |    |-- Shop Keeper: long (nullable = true)\n |    |    |-- Short: long (nullable = true)\n |    |    |-- Side Scroller: long (nullable = true)\n |    |    |-- Silent Protagonist: long (nullable = true)\n |    |    |-- Simulation: long (nullable = true)\n |    |    |-- Singleplayer: long (nullable = true)\n |    |    |-- Skateboarding: long (nullable = true)\n |    |    |-- Skating: long (nullable = true)\n |    |    |-- Skiing: long (nullable = true)\n |    |    |-- Sniper: long (nullable = true)\n |    |    |-- Snooker: long (nullable = true)\n |    |    |-- Snow: long (nullable = true)\n |    |    |-- Snowboarding: long (nullable = true)\n |    |    |-- Soccer: long (nullable = true)\n |    |    |-- Social Deduction: long (nullable = true)\n |    |    |-- Software: long (nullable = true)\n |    |    |-- Software Training: long (nullable = true)\n |    |    |-- Sokoban: long (nullable = true)\n |    |    |-- Solitaire: long (nullable = true)\n |    |    |-- Souls-like: long (nullable = true)\n |    |    |-- Soundtrack: long (nullable = true)\n |    |    |-- Space: long (nullable = true)\n |    |    |-- Space Sim: long (nullable = true)\n |    |    |-- Spaceships: long (nullable = true)\n |    |    |-- Spectacle fighter: long (nullable = true)\n |    |    |-- Spelling: long (nullable = true)\n |    |    |-- Split Screen: long (nullable = true)\n |    |    |-- Sports: long (nullable = true)\n |    |    |-- Stealth: long (nullable = true)\n |    |    |-- Steam Machine: long (nullable = true)\n |    |    |-- Steampunk: long (nullable = true)\n |    |    |-- Story Rich: long (nullable = true)\n |    |    |-- Strategy: long (nullable = true)\n |    |    |-- Strategy RPG: long (nullable = true)\n |    |    |-- Stylized: long (nullable = true)\n |    |    |-- Submarine: long (nullable = true)\n |    |    |-- Superhero: long (nullable = true)\n |    |    |-- Supernatural: long (nullable = true)\n |    |    |-- Surreal: long (nullable = true)\n |    |    |-- Survival: long (nullable = true)\n |    |    |-- Survival Horror: long (nullable = true)\n |    |    |-- Swordplay: long (nullable = true)\n |    |    |-- Tabletop: long (nullable = true)\n |    |    |-- Tactical: long (nullable = true)\n |    |    |-- Tactical RPG: long (nullable = true)\n |    |    |-- Tanks: long (nullable = true)\n |    |    |-- Team-Based: long (nullable = true)\n |    |    |-- Tennis: long (nullable = true)\n |    |    |-- Text-Based: long (nullable = true)\n |    |    |-- Third Person: long (nullable = true)\n |    |    |-- Third-Person Shooter: long (nullable = true)\n |    |    |-- Thriller: long (nullable = true)\n |    |    |-- Tile-Matching: long (nullable = true)\n |    |    |-- Time Attack: long (nullable = true)\n |    |    |-- Time Management: long (nullable = true)\n |    |    |-- Time Manipulation: long (nullable = true)\n |    |    |-- Time Travel: long (nullable = true)\n |    |    |-- Top-Down: long (nullable = true)\n |    |    |-- Top-Down Shooter: long (nullable = true)\n |    |    |-- Touch-Friendly: long (nullable = true)\n |    |    |-- Tower Defense: long (nullable = true)\n |    |    |-- TrackIR: long (nullable = true)\n |    |    |-- Trading: long (nullable = true)\n |    |    |-- Trading Card Game: long (nullable = true)\n |    |    |-- Traditional Roguelike: long (nullable = true)\n |    |    |-- Trains: long (nullable = true)\n |    |    |-- Transhumanism: long (nullable = true)\n |    |    |-- Transportation: long (nullable = true)\n |    |    |-- Trivia: long (nullable = true)\n |    |    |-- Turn-Based: long (nullable = true)\n |    |    |-- Turn-Based Combat: long (nullable = true)\n |    |    |-- Turn-Based Strategy: long (nullable = true)\n |    |    |-- Turn-Based Tactics: long (nullable = true)\n |    |    |-- Tutorial: long (nullable = true)\n |    |    |-- Twin Stick Shooter: long (nullable = true)\n |    |    |-- Typing: long (nullable = true)\n |    |    |-- Underground: long (nullable = true)\n |    |    |-- Underwater: long (nullable = true)\n |    |    |-- Unforgiving: long (nullable = true)\n |    |    |-- Utilities: long (nullable = true)\n |    |    |-- VR: long (nullable = true)\n |    |    |-- VR Only: long (nullable = true)\n |    |    |-- Vampire: long (nullable = true)\n |    |    |-- Vehicular Combat: long (nullable = true)\n |    |    |-- Video Production: long (nullable = true)\n |    |    |-- Vikings: long (nullable = true)\n |    |    |-- Villain Protagonist: long (nullable = true)\n |    |    |-- Violent: long (nullable = true)\n |    |    |-- Visual Novel: long (nullable = true)\n |    |    |-- Voice Control: long (nullable = true)\n |    |    |-- Volleyball: long (nullable = true)\n |    |    |-- Voxel: long (nullable = true)\n |    |    |-- Walking Simulator: long (nullable = true)\n |    |    |-- War: long (nullable = true)\n |    |    |-- Wargame: long (nullable = true)\n |    |    |-- Warhammer 40K: long (nullable = true)\n |    |    |-- Web Publishing: long (nullable = true)\n |    |    |-- Well-Written: long (nullable = true)\n |    |    |-- Werewolves: long (nullable = true)\n |    |    |-- Western: long (nullable = true)\n |    |    |-- Wholesome: long (nullable = true)\n |    |    |-- Word Game: long (nullable = true)\n |    |    |-- World War I: long (nullable = true)\n |    |    |-- World War II: long (nullable = true)\n |    |    |-- Wrestling: long (nullable = true)\n |    |    |-- Zombies: long (nullable = true)\n |    |    |-- e-sports: long (nullable = true)\n |    |-- type: string (nullable = true)\n |    |-- website: string (nullable = true)\n |-- id: string (nullable = true)\n |-- genre: string (nullable = false)\n\n+--------------------+-------+-----------+\n|                data|     id|      genre|\n+--------------------+-------+-----------+\n|{10, [Multi-playe...|     10|     Action|\n|{1000000, [Single...|1000000|     Action|\n|{1000000, [Single...|1000000|  Adventure|\n|{1000000, [Single...|1000000|      Indie|\n|{1000010, [Single...|1000010|  Adventure|\n|{1000010, [Single...|1000010|      Indie|\n|{1000010, [Single...|1000010|        RPG|\n|{1000010, [Single...|1000010|   Strategy|\n|{1000030, [Multi-...|1000030|     Action|\n|{1000030, [Multi-...|1000030|      Indie|\n|{1000030, [Multi-...|1000030| Simulation|\n|{1000030, [Multi-...|1000030|   Strategy|\n|{1000040, [Single...|1000040|     Action|\n|{1000040, [Single...|1000040|     Casual|\n|{1000040, [Single...|1000040|      Indie|\n|{1000040, [Single...|1000040| Simulation|\n|{1000080, [Multi-...|1000080|     Action|\n|{1000080, [Multi-...|1000080|  Adventure|\n|{1000080, [Multi-...|1000080|      Indie|\n|{1000080, [Multi-...|1000080|        RPG|\n+--------------------+-------+-----------+\nonly showing top 20 rows\n\n"
     ]
    }
   ],
   "source": [
    "# Explosion de la colonnes genre.\n",
    "genre_explode = df.withColumn(\"genre\", split(df[\"data.genre\"], \",\"))\n",
    "df_genre_explode = genre_explode.withColumn(\"genre\", explode(\"genre\"))\n",
    "df_genre_explode.printSchema()\n",
    "df_genre_explode.show()"
   ]
  },
  {
   "cell_type": "markdown",
   "metadata": {
    "application/vnd.databricks.v1+cell": {
     "cellMetadata": {},
     "inputWidgets": {},
     "nuid": "36be1da6-e00d-49ae-a717-6dc870244967",
     "showTitle": false,
     "title": ""
    }
   },
   "source": [
    "## Classement par genre de jeux"
   ]
  },
  {
   "cell_type": "code",
   "execution_count": 0,
   "metadata": {
    "application/vnd.databricks.v1+cell": {
     "cellMetadata": {
      "byteLimit": 2048000,
      "rowLimit": 10000
     },
     "inputWidgets": {},
     "nuid": "b60650a2-eeb2-45da-b8f4-2a4928ad8daf",
     "showTitle": false,
     "title": ""
    }
   },
   "outputs": [
    {
     "output_type": "stream",
     "name": "stdout",
     "output_type": "stream",
     "text": [
      "+-------------+-----+\n|        genre|count|\n+-------------+-----+\n|        Indie|34271|\n|       Action|23616|\n|       Casual|12312|\n|    Adventure|11265|\n|    Adventure|10166|\n|     Strategy|10045|\n|       Casual| 9774|\n|   Simulation| 9629|\n|          RPG| 8719|\n| Early Access| 6125|\n+-------------+-----+\nonly showing top 10 rows\n\n"
     ]
    }
   ],
   "source": [
    "df_genre_explode.groupBy(\"genre\").count().orderBy(desc(\"count\")).show(10)"
   ]
  },
  {
   "cell_type": "markdown",
   "metadata": {
    "application/vnd.databricks.v1+cell": {
     "cellMetadata": {},
     "inputWidgets": {},
     "nuid": "b4df27d7-746c-49ae-9425-6ab19d2b30fc",
     "showTitle": false,
     "title": ""
    }
   },
   "source": [
    "## Les catégories préférées des éditeurs"
   ]
  },
  {
   "cell_type": "code",
   "execution_count": 0,
   "metadata": {
    "application/vnd.databricks.v1+cell": {
     "cellMetadata": {
      "byteLimit": 2048000,
      "rowLimit": 10000
     },
     "inputWidgets": {},
     "nuid": "8eaa7929-9bcf-4cf0-8c0e-f948cdef3f1b",
     "showTitle": false,
     "title": ""
    }
   },
   "outputs": [
    {
     "output_type": "stream",
     "name": "stdout",
     "output_type": "stream",
     "text": [
      "+--------------------+---------+-----+\n|           publisher|    genre|count|\n+--------------------+---------+-----+\n|      Big Fish Games|Adventure|  391|\n|      Big Fish Games|   Casual|  389|\n|              8floor|   Casual|  194|\n|     Choice of Games|      RPG|  136|\n|     Choice of Games|    Indie|  112|\n|        Laush Studio|    Indie|  106|\n|     Choice of Games|Adventure|   99|\n|Alawar Entertainment|Adventure|   94|\n|                    |    Indie|   94|\n|Alawar Entertainment|   Casual|   94|\n|    Devolver Digital|    Indie|   81|\n|                SEGA|   Action|   80|\n|        Hosted Games|      RPG|   79|\n|        Laush Studio|   Casual|   79|\n|  Boogygames Studios|    Indie|   78|\n|        Kagura Games|      RPG|   77|\n|       Sekai Project|    Indie|   76|\n|      Piece Of Voxel|    Indie|   76|\n|Alawar Entertainment|    Indie|   75|\n|         Square Enix|   Action|   75|\n|        Hosted Games|    Indie|   74|\n|       Artifex Mundi|Adventure|   72|\n|  Boogygames Studios| Strategy|   71|\n|       Artifex Mundi|   Casual|   71|\n|         SA Industry|    Indie|   70|\n|       Blender Games|    Indie|   70|\n|             Ubisoft|   Action|   70|\n|                    |   Action|   69|\n|    Devolver Digital|   Action|   69|\n|            HH-Games|    Indie|   69|\n|       Blender Games|   Casual|   68|\n|            HH-Games|   Casual|   68|\n|     Plug In Digital|    Indie|   67|\n|             PLAYISM|    Indie|   66|\n|   Sokpop Collective|    Indie|   66|\n|  Boogygames Studios|   Casual|   65|\n|            HH-Games|   Casual|   64|\n|        Hosted Games|Adventure|   64|\n|           tinyBuild|    Indie|   64|\n|         Tero Lunkka|    Indie|   62|\n|            Ziggurat|   Action|   58|\n|           RewindApp|    Indie|   57|\n|          THQ Nordic|   Action|   57|\n|     Electronic Arts|   Action|   57|\n|      Reforged Group|    Indie|   54|\n|                Hede|    Indie|   54|\n|                Hede|   Action|   54|\n|Daedalic Entertai...|    Indie|   54|\n|        Garage Games|    Indie|   54|\n|BANDAI NAMCO Ente...|   Action|   52|\n+--------------------+---------+-----+\nonly showing top 50 rows\n\n"
     ]
    }
   ],
   "source": [
    "genre_publisher = df_genre_explode.withColumn(\"publisher\", df.data.publisher)\n",
    "genre_publisher.groupBy(\"publisher\", \"genre\").count().sort(desc(\"count\")).show(50)"
   ]
  },
  {
   "cell_type": "markdown",
   "metadata": {
    "application/vnd.databricks.v1+cell": {
     "cellMetadata": {},
     "inputWidgets": {},
     "nuid": "def2ff33-a859-48dd-8c02-426ecb19d2e7",
     "showTitle": false,
     "title": ""
    }
   },
   "source": [
    "## Classement par plateformes Windows/Mac/Linux"
   ]
  },
  {
   "cell_type": "code",
   "execution_count": 0,
   "metadata": {
    "application/vnd.databricks.v1+cell": {
     "cellMetadata": {
      "byteLimit": 2048000,
      "rowLimit": 10000
     },
     "inputWidgets": {},
     "nuid": "ce72a3ef-feb0-47bd-b057-f4d130146e33",
     "showTitle": false,
     "title": ""
    }
   },
   "outputs": [
    {
     "output_type": "stream",
     "name": "stdout",
     "output_type": "stream",
     "text": [
      "+-----+-----+\n|linux|count|\n+-----+-----+\n|false|47233|\n| true| 8458|\n+-----+-----+\n\n"
     ]
    }
   ],
   "source": [
    "# Linux\n",
    "df.groupBy(\"data.platforms.linux\").count().orderBy(desc(\"count\")).show()"
   ]
  },
  {
   "cell_type": "code",
   "execution_count": 0,
   "metadata": {
    "application/vnd.databricks.v1+cell": {
     "cellMetadata": {
      "byteLimit": 2048000,
      "rowLimit": 10000
     },
     "inputWidgets": {},
     "nuid": "e28ea096-7c06-4126-a48f-6bd985479756",
     "showTitle": false,
     "title": ""
    }
   },
   "outputs": [
    {
     "output_type": "stream",
     "name": "stdout",
     "output_type": "stream",
     "text": [
      "+-----+-----+\n|  mac|count|\n+-----+-----+\n|false|42921|\n| true|12770|\n+-----+-----+\n\n"
     ]
    }
   ],
   "source": [
    "df.groupBy(\"data.platforms.mac\").count().orderBy(desc(\"count\")).show()"
   ]
  },
  {
   "cell_type": "code",
   "execution_count": 0,
   "metadata": {
    "application/vnd.databricks.v1+cell": {
     "cellMetadata": {
      "byteLimit": 2048000,
      "rowLimit": 10000
     },
     "inputWidgets": {},
     "nuid": "836f6d7d-c33f-4706-b34b-424977d7c8e9",
     "showTitle": false,
     "title": ""
    }
   },
   "outputs": [
    {
     "output_type": "stream",
     "name": "stdout",
     "output_type": "stream",
     "text": [
      "+-------+-----+\n|windows|count|\n+-------+-----+\n|   true|55676|\n|  false|   15|\n+-------+-----+\n\n"
     ]
    }
   ],
   "source": [
    "df.groupBy(\"data.platforms.windows\").count().orderBy(desc(\"count\")).show()"
   ]
  },
  {
   "cell_type": "code",
   "execution_count": 0,
   "metadata": {
    "application/vnd.databricks.v1+cell": {
     "cellMetadata": {
      "byteLimit": 2048000,
      "rowLimit": 10000
     },
     "inputWidgets": {},
     "nuid": "f56d1460-a5f1-4e18-9821-56505f5fd351",
     "showTitle": false,
     "title": ""
    }
   },
   "outputs": [
    {
     "output_type": "stream",
     "name": "stdout",
     "output_type": "stream",
     "text": [
      "Percentage of games available in Linux: 0.15187373184176978\nPercentage of games available in Mac: 0.22930096424916055\nPercentage of games available in Windows: 0.9997306566590652\n"
     ]
    }
   ],
   "source": [
    "print(\"Percentage of games available in Linux:\", 8458/ df.count())\n",
    "print(\"Percentage of games available in Mac:\", 12770/ df.count())\n",
    "print(\"Percentage of games available in Windows:\", 55676/ df.count())"
   ]
  },
  {
   "cell_type": "markdown",
   "metadata": {
    "application/vnd.databricks.v1+cell": {
     "cellMetadata": {},
     "inputWidgets": {},
     "nuid": "3c505b75-da72-4fe7-ae82-f5ae175fab72",
     "showTitle": false,
     "title": ""
    }
   },
   "source": [
    "<span style=\"color:red\">% Linux 15.18%.</span></BR>\n",
    "<span style=\"color:red\">% Mac 22.93%.</span></BR>\n",
    "<span style=\"color:red\">% Windows 99.97%.</span></BR>"
   ]
  },
  {
   "cell_type": "markdown",
   "metadata": {
    "application/vnd.databricks.v1+cell": {
     "cellMetadata": {},
     "inputWidgets": {},
     "nuid": "053d9408-dedd-4870-92ee-ce201c863c98",
     "showTitle": false,
     "title": ""
    }
   },
   "source": [
    "## Influence de la plateforme sur le genre de jeux"
   ]
  },
  {
   "cell_type": "code",
   "execution_count": 0,
   "metadata": {
    "application/vnd.databricks.v1+cell": {
     "cellMetadata": {
      "byteLimit": 2048000,
      "rowLimit": 10000
     },
     "inputWidgets": {},
     "nuid": "60999d83-610c-4ca4-95ed-232a6d7db0c0",
     "showTitle": false,
     "title": ""
    }
   },
   "outputs": [
    {
     "output_type": "stream",
     "name": "stdout",
     "output_type": "stream",
     "text": [
      "+-----------+-----+\n|      genre|count|\n+-----------+-----+\n|      Indie| 5912|\n|     Action| 3369|\n|  Adventure| 1945|\n|     Casual| 1838|\n|   Strategy| 1707|\n|     Casual| 1467|\n|        RPG| 1438|\n| Simulation| 1399|\n|  Adventure| 1357|\n|      Indie| 1066|\n+-----------+-----+\nonly showing top 10 rows\n\n"
     ]
    }
   ],
   "source": [
    "# linux\n",
    "genre_explode_linux = df_genre_explode.withColumn(\"linux\", df.data.platforms.linux,)\n",
    "genre_explode_linux = genre_explode_linux.filter(genre_explode_linux[\"linux\"] == True)\n",
    "genre_explode_linux.groupBy(\"genre\").count().orderBy(desc(\"count\")).show(10)"
   ]
  },
  {
   "cell_type": "code",
   "execution_count": 0,
   "metadata": {
    "application/vnd.databricks.v1+cell": {
     "cellMetadata": {
      "byteLimit": 2048000,
      "rowLimit": 10000
     },
     "inputWidgets": {},
     "nuid": "94a032b8-568c-45c5-ac1f-f641520458ad",
     "showTitle": false,
     "title": ""
    }
   },
   "outputs": [
    {
     "output_type": "stream",
     "name": "stdout",
     "output_type": "stream",
     "text": [
      "+-----------+-----+\n|      genre|count|\n+-----------+-----+\n|      Indie| 8367|\n|     Action| 4549|\n|  Adventure| 3150|\n|     Casual| 2776|\n|   Strategy| 2769|\n|     Casual| 2354|\n| Simulation| 2191|\n|        RPG| 2117|\n|  Adventure| 1889|\n|      Indie| 1568|\n+-----------+-----+\nonly showing top 10 rows\n\n"
     ]
    }
   ],
   "source": [
    "# mac\n",
    "genre_explode_mac = df_genre_explode.withColumn(\"mac\", df.data.platforms.mac,)\n",
    "genre_mac = genre_explode_mac.filter(genre_explode_mac[\"mac\"] == True)\n",
    "genre_mac.groupBy(\"genre\").count().orderBy(desc(\"count\")).show(10)"
   ]
  },
  {
   "cell_type": "code",
   "execution_count": 0,
   "metadata": {
    "application/vnd.databricks.v1+cell": {
     "cellMetadata": {
      "byteLimit": 2048000,
      "rowLimit": 10000
     },
     "inputWidgets": {},
     "nuid": "617163f6-b837-44b3-ae65-230d062e22cf",
     "showTitle": false,
     "title": ""
    }
   },
   "outputs": [
    {
     "output_type": "stream",
     "name": "stdout",
     "output_type": "stream",
     "text": [
      "+-------------+-----+\n|        genre|count|\n+-------------+-----+\n|        Indie|34267|\n|       Action|23612|\n|       Casual|12309|\n|    Adventure|11262|\n|    Adventure|10165|\n|     Strategy|10042|\n|       Casual| 9773|\n|   Simulation| 9626|\n|          RPG| 8718|\n| Early Access| 6125|\n+-------------+-----+\nonly showing top 10 rows\n\n"
     ]
    }
   ],
   "source": [
    "# windows\n",
    "genre_explode_windows = df_genre_explode.withColumn(\"windows\", df.data.platforms.windows,)\n",
    "genre_explode_windows = genre_explode_windows.filter(genre_explode_windows[\"windows\"] == True)\n",
    "genre_explode_windows.groupBy(\"genre\").count().orderBy(desc(\"count\")).show(10)"
   ]
  }
 ],
 "metadata": {
  "application/vnd.databricks.v1+notebook": {
   "dashboards": [],
   "language": "python",
   "notebookMetadata": {
    "pythonIndentUnit": 4
   },
   "notebookName": "YSdataBricks",
   "widgets": {}
  }
 },
 "nbformat": 4,
 "nbformat_minor": 0
}
